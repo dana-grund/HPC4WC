{
 "cells": [
  {
   "cell_type": "code",
   "execution_count": 1,
   "id": "f9e5d430-b42c-4e77-bb56-a9162f1a43bc",
   "metadata": {},
   "outputs": [
    {
     "name": "stderr",
     "output_type": "stream",
     "text": [
      "/users/class170/HPC4WC_venv/lib/python3.9/site-packages/setuptools/distutils_patch.py:25: UserWarning: Distutils was imported before Setuptools. This usage is discouraged and may exhibit undesirable behaviors or errors. Please use Setuptools' objects directly or at least import Setuptools first.\n",
      "  warnings.warn(\n"
     ]
    }
   ],
   "source": [
    "import gt4py as gt\n",
    "from gt4py import gtscript\n",
    "import matplotlib as mpl\n",
    "import matplotlib.pyplot as plt\n",
    "import numpy as np\n",
    "\n",
    "mpl.rcParams[\"font.size\"] = 16"
   ]
  },
  {
   "cell_type": "code",
   "execution_count": 24,
   "id": "2341ab60-3bf8-4979-a79a-b32c37ed935c",
   "metadata": {},
   "outputs": [],
   "source": [
    "# grid size\n",
    "nx = 10\n",
    "ny = 10\n",
    "nz=1\n",
    "\n",
    "backend='numpy'\n",
    "\n",
    "# storage shape\n",
    "shape = (nx, ny, nz)\n",
    "\n",
    "# default origin (trust it for now!)\n",
    "default_origin = (0, 0, 0)\n",
    "\n",
    "# allocate an empty storage\n",
    "hMidx = gt.storage.empty(backend, default_origin, (nx-1, ny-1, nz), dtype=float)"
   ]
  },
  {
   "cell_type": "code",
   "execution_count": 25,
   "id": "dd573dcb-d761-415e-907a-b36d2dfa2583",
   "metadata": {},
   "outputs": [],
   "source": [
    "def compute_staggered(\n",
    "    h: gtscript.Field[float],\n",
    "    hMidx: gtscript.Field[float],\n",
    "    ):\n",
    "    from __gtscript__ import PARALLEL, computation, interval\n",
    "    \n",
    "    with computation(PARALLEL), interval(...):\n",
    "\n",
    "        # Mid-point value for h along x\n",
    "            hMidx = 0.5 * (h[1, 0,0] + h[0,0,0])        "
   ]
  },
  {
   "cell_type": "code",
   "execution_count": 26,
   "id": "dfbe1503-23a7-4041-b790-48eb1d2e7395",
   "metadata": {},
   "outputs": [
    {
     "data": {
      "text/plain": [
       "Text(0.5, 1.0, 'initial field')"
      ]
     },
     "execution_count": 26,
     "metadata": {},
     "output_type": "execute_result"
    },
    {
     "data": {
      "image/png": "[encoded data removed]",
      "text/plain": [
       "<Figure size 432x288 with 1 Axes>"
      ]
     },
     "metadata": {
      "needs_background": "light"
     },
     "output_type": "display_data"
    }
   ],
   "source": [
    "h_np = np.zeros(shape)\n",
    "h_np[:5,:5,:] = 1\n",
    "h_np[:5,5:,:] = 2\n",
    "h_np[5:,5:,:] = 3\n",
    "h_np[0,:,:] = 4\n",
    "h_np[:,0,:] = 4\n",
    "h_np[:,-1,:] = 4\n",
    "h_np[-1,:,:] = 4\n",
    "plt.imshow(h_np[:,:,0].T, origin='lower')\n",
    "plt.title('initial field')"
   ]
  },
  {
   "cell_type": "code",
   "execution_count": 27,
   "id": "2704d008-6a5a-447d-b22a-b1317cf450dd",
   "metadata": {},
   "outputs": [],
   "source": [
    "h = gt.storage.from_array(h_np, backend, default_origin)\n",
    "test_it = gtscript.stencil(definition=compute_staggered, backend=backend)"
   ]
  },
  {
   "cell_type": "code",
   "execution_count": 28,
   "id": "c42b9627-a60e-4311-871d-dc261a85a9ce",
   "metadata": {},
   "outputs": [
    {
     "data": {
      "text/plain": [
       "Text(0.5, 1.0, 'staggered field')"
      ]
     },
     "execution_count": 28,
     "metadata": {},
     "output_type": "execute_result"
    },
    {
     "data": {
      "image/png": "[encoded data removed]",
      "text/plain": [
       "<Figure size 432x288 with 1 Axes>"
      ]
     },
     "metadata": {
      "needs_background": "light"
     },
     "output_type": "display_data"
    }
   ],
   "source": [
    "test_it(h, \n",
    "    hMidx,\n",
    "    origin=(0,0,0), domain=(nx-1, ny-1, nz)) ### test with ny instead of ny-1\n",
    "plt.imshow(np.asarray(hMidx[:,:,0]).T, origin='lower')\n",
    "plt.title('staggered field')"
   ]
  },
  {
   "cell_type": "code",
   "execution_count": 23,
   "id": "6a009b20-50e3-4435-9f8c-36ae0a597c97",
   "metadata": {},
   "outputs": [
    {
     "data": {
      "text/plain": [
       "((9, 9, 1), (10, 10, 1))"
      ]
     },
     "execution_count": 23,
     "metadata": {},
     "output_type": "execute_result"
    }
   ],
   "source": [
    "hMidx.shape, h_np.shape"
   ]
  },
  {
   "cell_type": "code",
   "execution_count": null,
   "id": "832881ae-1cea-45af-80e9-ffd21a95a5a9",
   "metadata": {},
   "outputs": [],
   "source": []
  }
 ],
 "metadata": {
  "kernelspec": {
   "display_name": "HPC4WC_kernel",
   "language": "python",
   "name": "hpc4wc_kernel"
  },
  "language_info": {
   "codemirror_mode": {
    "name": "ipython",
    "version": 3
   },
   "file_extension": ".py",
   "mimetype": "text/x-python",
   "name": "python",
   "nbconvert_exporter": "python",
   "pygments_lexer": "ipython3",
   "version": "3.9.4"
  }
 },
 "nbformat": 4,
 "nbformat_minor": 5
}
