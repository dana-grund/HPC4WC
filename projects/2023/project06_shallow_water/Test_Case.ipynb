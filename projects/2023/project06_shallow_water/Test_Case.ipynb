{
 "cells": [
  {
   "cell_type": "code",
   "execution_count": null,
   "id": "f9e5d430-b42c-4e77-bb56-a9162f1a43bc",
   "metadata": {},
   "outputs": [],
   "source": [
    "import gt4py as gt\n",
    "from gt4py import gtscript\n",
    "import matplotlib as mpl\n",
    "import matplotlib.pyplot as plt\n",
    "import numpy as np\n",
    "\n",
    "mpl.rcParams[\"font.size\"] = 16"
   ]
  },
  {
   "cell_type": "code",
   "execution_count": null,
   "id": "2341ab60-3bf8-4979-a79a-b32c37ed935c",
   "metadata": {},
   "outputs": [],
   "source": [
    "# grid size\n",
    "nx = 10\n",
    "ny = 10\n",
    "nz=1\n",
    "\n",
    "backend='numpy'\n",
    "\n",
    "# storage shape\n",
    "shape = (nx, ny, nz)\n",
    "\n",
    "# default origin (trust it for now!)\n",
    "default_origin = (0, 0,0)\n",
    "\n",
    "# allocate an empty storage\n",
    "h_new = gt.storage.empty(backend, default_origin, shape, dtype=float)\n",
    "\n",
    "# allocate a storage filled with zeros\n",
    "v = gt.storage.zeros(backend, default_origin, shape, dtype=float)\n",
    "\n",
    "# allocate a storage filled with ones\n",
    "u = gt.storage.ones(backend, default_origin, shape, dtype=float)\n",
    "\n",
    "# create storages out of numpy.ndarrays\n",
    "h = gt.storage.from_array(np.random.rand(*shape), backend, default_origin)\n",
    "h_now = gt.storage.from_array(np.random.rand(*shape), backend, default_origin)\n",
    "\n",
    "hMidx = gt.storage.from_array(np.zeros((nx-1, ny, nz)), backend, default_origin)\n",
    "hMidy = gt.storage.from_array(np.zeros((nx, ny-1, nz)), backend, default_origin)\n",
    "\n",
    "dx = gt.storage.from_array(np.ones((nx-1, ny, nz)), backend, default_origin)\n",
    "dy = gt.storage.from_array(np.ones((nx,ny-1, nz)), backend, default_origin)\n",
    "\n",
    "dxc = gt.storage.from_array(np.ones((nx-2, ny-2, nz)), backend, default_origin)\n",
    "dyc = gt.storage.from_array(np.ones((nx-2, ny-2, nz)), backend, default_origin)"
   ]
  },
  {
   "cell_type": "code",
   "execution_count": null,
   "id": "dd573dcb-d761-415e-907a-b36d2dfa2583",
   "metadata": {},
   "outputs": [],
   "source": [
    "def test_function(\n",
    "    u: gtscript.Field[float], \n",
    "    v: gtscript.Field[float], \n",
    "    h: gtscript.Field[float],\n",
    "    h_new: gtscript.Field[float],\n",
    "    hMidx: gtscript.Field[float],\n",
    "    hMidy: gtscript.Field[float],\n",
    "    dx: gtscript.Field[float],\n",
    "    dy: gtscript.Field[float],\n",
    "    *,\n",
    "    dt: float):\n",
    "    from __gtscript__ import PARALLEL, computation, interval\n",
    "    \n",
    "    with computation(PARALLEL), interval(...):\n",
    "            hu = h * u\n",
    "            # Mid-point value for h along x\n",
    "            hMidx = 0.5 * (h[1, 0,0] + h[0,0,0]) - \\\n",
    "                    0.5 * dt / dx[0,0,0] * (hu[1,0,0] - hu[0,0,0])\n",
    "            \n",
    "            # Mid-point value for h along y\n",
    "            hMidy = 0.5 * (h[0,1,0] + h[0,0,0]) - \\\n",
    "                    0.5 * self.dt / self.dy1[0,0,0] * (hv1[0,1,0] - hv1[0,0,0])\n",
    "            \n",
    "            # Mid-point value for h along x\n",
    "            #hMidx = 0.5 * (h[1:,1:-1] + h[:-1,1:-1]) - \\\n",
    "            #     0.5 * self.dt / self.dx[:,1:-1] * (hu[1:,1:-1] - hu[:-1,1:-1])\n",
    "\n",
    "            # Mid-point value for h along y\n",
    "            #hMidy = 0.5 * (h[1:-1,1:] + h[1:-1,:-1]) - \\\n",
    "            #     0.5 * self.dt / self.dy1[1:-1,:] * (hv1[1:-1,1:] - hv1[1:-1,:-1])\n",
    "        \n",
    "\n",
    "def test_function_2(\n",
    "    h: gtscript.Field[float],\n",
    "    h_new: gtscript.Field[float],\n",
    "    huMidx: gtscript.Field[float],\n",
    "    hvMidy: gtscript.Field[float],\n",
    "    dxc: gtscript.Field[float],\n",
    "    dyc: gtscript.Field[float],\n",
    "    *,\n",
    "    dt: float):\n",
    "    from __gtscript__ import PARALLEL, computation, interval\n",
    "\n",
    "    with computation(PARALLEL), interval(...):\n",
    "            hnew = h[0,0,0] - \\\n",
    "               dt / dxc * (huMidx[1,0,0] - huMidx[0,0,0]) - \\\n",
    "               dt / dy1c * (hvMidy[0,1,0] - hvMidy[0,0,0])\n",
    "        \n",
    "        \n",
    "        "
   ]
  },
  {
   "cell_type": "code",
   "execution_count": null,
   "id": "bb2b8d47-771a-4db0-b761-8e1fa414ee10",
   "metadata": {},
   "outputs": [],
   "source": [
    "test_it = gtscript.stencil(definition=test_function, backend=backend)"
   ]
  },
  {
   "cell_type": "code",
   "execution_count": null,
   "id": "da662cab-985b-457b-8d98-b3461db4dde8",
   "metadata": {},
   "outputs": [],
   "source": [
    "test_it(u,v,h,h_new, hMidx, hMidy,\n",
    "    dx,\n",
    "    dy,\n",
    "    dt=1.0, origin=(0,0,0), domain=(nx-1, ny-1, nz))"
   ]
  },
  {
   "cell_type": "code",
   "execution_count": null,
   "id": "a03f1c7a-b62a-42d9-8718-e05c95889ac6",
   "metadata": {},
   "outputs": [],
   "source": [
    "plt.imshow(np.asarray(hMidx[:,:,0]))"
   ]
  }
 ],
 "metadata": {
  "kernelspec": {
   "display_name": "HPC4WC_kernel",
   "language": "python",
   "name": "hpc4wc_kernel"
  },
  "language_info": {
   "codemirror_mode": {
    "name": "ipython",
    "version": 3
   },
   "file_extension": ".py",
   "mimetype": "text/x-python",
   "name": "python",
   "nbconvert_exporter": "python",
   "pygments_lexer": "ipython3",
   "version": "3.9.4"
  }
 },
 "nbformat": 4,
 "nbformat_minor": 5
}
