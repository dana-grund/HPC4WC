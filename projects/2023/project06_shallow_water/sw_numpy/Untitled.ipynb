{
 "cells": [
  {
   "cell_type": "code",
   "execution_count": 1,
   "id": "25f7f05c-1f1d-4994-85ef-46396e8ec4eb",
   "metadata": {},
   "outputs": [],
   "source": [
    "import numpy as np"
   ]
  },
  {
   "cell_type": "code",
   "execution_count": 12,
   "id": "1db93af6-8b19-4b60-8024-548dff1ea481",
   "metadata": {},
   "outputs": [],
   "source": [
    "phi1D=np.linspace(1, 20, 20)\n",
    "theta1D=np.linspace(1, 40,40)\n",
    "a,b=np.meshgrid(phi1D, theta1D, indexing = 'ij')"
   ]
  },
  {
   "cell_type": "code",
   "execution_count": 13,
   "id": "6f706d6e-d7f6-4162-9c59-d9bd00269c6a",
   "metadata": {},
   "outputs": [
    {
     "data": {
      "text/plain": [
       "(20, 40)"
      ]
     },
     "execution_count": 13,
     "metadata": {},
     "output_type": "execute_result"
    }
   ],
   "source": [
    "np.shape(b)"
   ]
  },
  {
   "cell_type": "code",
   "execution_count": null,
   "id": "734eaaec-243b-4ffa-ad66-cfe517484ab9",
   "metadata": {},
   "outputs": [],
   "source": []
  }
 ],
 "metadata": {
  "kernelspec": {
   "display_name": "HPC4WC_kernel",
   "language": "python",
   "name": "hpc4wc_kernel"
  },
  "language_info": {
   "codemirror_mode": {
    "name": "ipython",
    "version": 3
   },
   "file_extension": ".py",
   "mimetype": "text/x-python",
   "name": "python",
   "nbconvert_exporter": "python",
   "pygments_lexer": "ipython3",
   "version": "3.9.4"
  }
 },
 "nbformat": 4,
 "nbformat_minor": 5
}
