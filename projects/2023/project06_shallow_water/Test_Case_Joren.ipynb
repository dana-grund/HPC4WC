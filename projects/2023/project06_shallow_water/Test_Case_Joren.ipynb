{
 "cells": [
  {
   "cell_type": "code",
   "execution_count": 2,
   "id": "f9e5d430-b42c-4e77-bb56-a9162f1a43bc",
   "metadata": {},
   "outputs": [
    {
     "name": "stderr",
     "output_type": "stream",
     "text": [
      "/users/class170/HPC4WC_venv/lib/python3.9/site-packages/setuptools/distutils_patch.py:25: UserWarning: Distutils was imported before Setuptools. This usage is discouraged and may exhibit undesirable behaviors or errors. Please use Setuptools' objects directly or at least import Setuptools first.\n",
      "  warnings.warn(\n"
     ]
    }
   ],
   "source": [
    "import gt4py as gt\n",
    "from gt4py import gtscript\n",
    "import matplotlib as mpl\n",
    "import matplotlib.pyplot as plt\n",
    "import numpy as np\n",
    "\n",
    "mpl.rcParams[\"font.size\"] = 16"
   ]
  },
  {
   "cell_type": "code",
   "execution_count": 3,
   "id": "1dfd2e7c-2308-4eec-8d7e-eb87c9534c9f",
   "metadata": {},
   "outputs": [],
   "source": [
    "backend='numpy'"
   ]
  },
  {
   "cell_type": "code",
   "execution_count": 4,
   "id": "dd573dcb-d761-415e-907a-b36d2dfa2583",
   "metadata": {},
   "outputs": [],
   "source": [
    "@gtscript.function\n",
    "def xMid(dx, dt, h, hu):\n",
    "    return 0.5 * (h[1, 0,0] + h[0,0,0]) - 0.5 * dt / dx[0,0,0] * (hu[1,0,0] - hu[0,0,0])\n",
    "\n",
    "@gtscript.function\n",
    "def yMid(dy1, dt, h, hv1):\n",
    "    return 0.5 * (h[0,1,0] + h[0,0,0]) - 0.5 * dt / dy1[0,0,0] * (hv1[0,1,0] - hv1[0,0,0])\n",
    "\n",
    "@gtscript.function\n",
    "def xMid_hu(dx, dt, hu, hv, Ux, f, u, tgMidx, a):\n",
    "    return (0.5 * (hu[1, 0,0] + hu[0,0,0]) - 0.5 * dt / dx[0,0,0] * (Ux[1,0,0] - Ux[0,0,0]) + \\\n",
    "            0.5 * dt * \\\n",
    "            (0.5 * (f[1,0,0] + f[0,0,0]) + \\\n",
    "            0.5 * (u[1,0,0] + u[0,0,0]) * tgMidx / a) * \\\n",
    "            (0.5 * (hv[1,0,0] + hv[0,0,0])))           \n",
    "\n",
    "@gtscript.function\n",
    "def yMid_hu(dy1, dt, hu, hv, Uy, f, u, tgMidy, a):\n",
    "    return (0.5 * (hu[0,1,0] + hu[0,0,0]) - 0.5 * dt / dy1[0,0,0] * (Uy[0,1,0] - Uy[0,0,0]) + \\\n",
    "        0.5 * dt * \\\n",
    "        (0.5 * (f[0,1,0] + f[0,0,0]) + \\\n",
    "        0.5 * (u[0,1,0] + u[0,0,0]) * tgMidy / a) * \\\n",
    "        (0.5 * (hv[0,1,0] + hv[0,0,0])))\n",
    "\n",
    "            \n",
    "@gtscript.function\n",
    "def xMid_hv(dx, dt, hu, hv, Vx, f, u, tgMidx, a):\n",
    "    return (0.5 * (hv[1, 0,0] + hv[0,0,0]) - 0.5 * dt / dx[0,0,0] * (Vx[1,0,0] - Vx[0,0,0]) - \\\n",
    "            0.5 * dt * \\\n",
    "            (0.5 * (f[1,0,0] + f[0,0,0]) + \\\n",
    "            0.5 * (u[1,0,0] + u[0,0,0]) * tgMidx / a) * \\\n",
    "            (0.5 * (hu[1,0,0] + hu[0,0,0])))    \n",
    "            \n",
    "            \n",
    "@gtscript.function\n",
    "def yMid_hv(dy1, dy, dt, hu, hv,  Vy1, Vy2, f, u, tgMidy, a):\n",
    "    return (0.5 * (hv[0,1,0] + hv[0,0,0]) \\\n",
    "            - 0.5 * dt / dy1[0,0,0] * (Vy1[0,1,0] - Vy1[0,0,0]) -  \\\n",
    "            0.5 * dt / dy[0,0,0] * (Vy2[0,1,0] - Vy2[0,0,0]) -\\\n",
    "            0.5 * dt * \\\n",
    "            (0.5 * (f[0,1,0] + f[0,0,0]) + \\\n",
    "            0.5 * (u[0,1,0] + u[0,0,0]) * tgMidy / a) * \\\n",
    "            (0.5 * (hu[0,1,0] + hu[0,0,0])))           \n",
    "            \n",
    "        \n",
    "def test_function(\n",
    "    u: gtscript.Field[float], \n",
    "    v: gtscript.Field[float],\n",
    "    hMidx: gtscript.Field[float],\n",
    "    hMidy: gtscript.Field[float],\n",
    "    huMidx: gtscript.Field[float],\n",
    "    huMidy: gtscript.Field[float],\n",
    "    hvMidx: gtscript.Field[float],\n",
    "    hvMidy: gtscript.Field[float],\n",
    "    h: gtscript.Field[float],\n",
    "    h_new: gtscript.Field[float],\n",
    "    f: gtscript.Field[float],\n",
    "    tgMidx: gtscript.Field[float],\n",
    "    tgMidy: gtscript.Field[float],\n",
    "    dx: gtscript.Field[float],\n",
    "    dy: gtscript.Field[float],\n",
    "    dy1: gtscript.Field[float],\n",
    "    c: gtscript.Field[float],\n",
    "    *,\n",
    "    dt: float,\n",
    "    g: float,\n",
    "    a: float):\n",
    "    from __gtscript__ import PARALLEL, computation, interval\n",
    "    from __externals__ import xMid, yMid, xMid_hu, yMid_hu, xMid_hv, yMid_hv\n",
    "    \n",
    "    with computation(PARALLEL), interval(...):\n",
    "            hu = h * u\n",
    "            v1 = v * c\n",
    "            hv = h * v\n",
    "            hv1 = h * v1\n",
    "            \n",
    "            Ux = hu * u + 0.5 * g * h * h\n",
    "            Uy = hu * v1\n",
    "            Vx = hu * v\n",
    "            \n",
    "            Vy1 = hv * v1\n",
    "            Vy2 = 0.5 * g * h * h\n",
    "            \n",
    "            # Mid-point value for h along x\n",
    "            hMidx = xMid(dx, h, hu, dt)\n",
    "            # Mid-point value for h along y\n",
    "            hMidy = yMid(dx, h, hv, dt)\n",
    "            \n",
    "            huMidx = xMid_hu(dx, dt, hu, hv, Ux, f, u, tgMidx, a)\n",
    "            huMidy = yMid_hu(dy1, dt, hu, hv, Uy, f, u, tgMidy, a)\n",
    "            \n",
    "            hvMidx = xMid_hv(dx, dt, hu, hv, Vx, f, u, tgMidx, a)\n",
    "            hvMidy = yMid_hv(dy1, dy, dt, hu, hv,  Vy1, Vy2, f, u, tgMidy, a)\n"
   ]
  },
  {
   "cell_type": "code",
   "execution_count": 5,
   "id": "1e078d8f-654b-40f1-b1e6-ed84fe52e677",
   "metadata": {},
   "outputs": [],
   "source": [
    "def compute_H0(\n",
    "    h: gtscript.Field[float], \n",
    "    h_new: gtscript.Field[float],\n",
    "    huMidx: gtscript.Field[float],\n",
    "    hvMidy: gtscript.Field[float],\n",
    "    cMidy: gtscript.Field[float],\n",
    "    dxc: gtscript.Field[float],\n",
    "    dy1c: gtscript.Field[float],\n",
    "    *,\n",
    "    dt: float):\n",
    "    from __gtscript__ import PARALLEL, computation, interval\n",
    "    \n",
    "    with computation(PARALLEL), interval(...):\n",
    "        # Update fluid height\n",
    "        h_new[0,0,0]= h[1,1,0] - \\\n",
    "               dt / dxc[0,0,0] * (huMidx[1,0,0] - huMidx[0,0,0]) - \\\n",
    "               dt /dy1c[0,0,0] * (hvMidy[0,1,0]*cMidy[0,1,0] - hvMidy[0,0,0]*cMidy[0,0,0])\n",
    "        \n",
    "        \n",
    "        \n",
    "        "
   ]
  },
  {
   "cell_type": "code",
   "execution_count": 85,
   "id": "48014a09-9a06-458a-bbb4-d454c58cac32",
   "metadata": {},
   "outputs": [],
   "source": [
    "def compute_Final_Step(\n",
    "    h: gtscript.Field[float], \n",
    "    hnew: gtscript.Field[float],\n",
    "    hu: gtscript.Field[float],\n",
    "    hv: gtscript.Field[float],\n",
    "    hs: gtscript.Field[float],\n",
    "    tg: gtscript.Field[float],\n",
    "    f: gtscript.Field[float],\n",
    "    huMidx: gtscript.Field[float],\n",
    "    huMidy: gtscript.Field[float],\n",
    "    hvMidx: gtscript.Field[float],\n",
    "    hvMidy: gtscript.Field[float],\n",
    "    hMidx: gtscript.Field[float],\n",
    "    hMidy: gtscript.Field[float],\n",
    "    cMidy: gtscript.Field[float],\n",
    "    dx: gtscript.Field[float],\n",
    "    dy1: gtscript.Field[float],\n",
    "    dxc: gtscript.Field[float],\n",
    "    dyc: gtscript.Field[float],\n",
    "    dy1c: gtscript.Field[float],\n",
    "    unew: gtscript.Field[float],\n",
    "    vnew: gtscript.Field[float],\n",
    "    *,\n",
    "    dt: float,\n",
    "    g: float,\n",
    "    a: float):\n",
    "    from __gtscript__ import PARALLEL, computation, interval\n",
    "    \n",
    "    with computation(PARALLEL), interval(...):\n",
    "        # Update fluid height\n",
    "        hnew[0,0,0]= h[1,1,0] - \\\n",
    "               dt / dxc[0,0,0] * (huMidx[1,0,0] - huMidx[0,0,0]) - \\\n",
    "               dt /dy1c[0,0,0] * (hvMidy[0,1,0]*cMidy[0,1,0] - hvMidy[0,0,0]*cMidy[0,0,0])\n",
    "        \n",
    "        #DOES THIS WORK: NP.WHERE WITHIN GT4PY??????\n",
    "        \n",
    "        # Update longitudinal moment\n",
    "        \n",
    "        temp_bool=hMidx > 0.0        \n",
    "        UxMid = temp_bool* (huMidx * huMidx / hMidx + 0.5 * g * hMidx * hMidx)\n",
    "        temp_bool=hMidx <= 0.0\n",
    "        UxMid=UxMid +  temp_bool*(0.5 * g * hMidx * hMidx)\n",
    "        \n",
    "        \n",
    "        temp_bool=hMidy > 0.0        \n",
    "        UyMid = temp_bool* (hvMidy * cMidy * huMidy / hMidy)\n",
    "        \n",
    "        hunew = hu[1,1,0] - \\\n",
    "                dt / dxc * (UxMid[1,0,0] - UxMid[0,0,0]) - \\\n",
    "                dt / dy1c * (UyMid[0,1,0] - UyMid[0,0,0]) + \\\n",
    "                dt * (f[1,1,0] + \\\n",
    "                            0.25 * (huMidx[0,0,0] / hMidx[0,0,0] + \\\n",
    "                                    huMidx[1,0,0] / hMidx[1,0,0] + \\\n",
    "                                    huMidy[0,0,0] / hMidy[0,0,0] + \\\n",
    "                                    huMidy[0,1,0] / hMidy[0,1,0]) * \\\n",
    "                            tg /a) * \\\n",
    "                0.25 * (hvMidx[0,0,0] + hvMidx[1,0,0] + hvMidy[0,0,0] + hvMidy[0,1,0]) - \\\n",
    "                dt * g * \\\n",
    "                0.25 * (hMidx[0,0,0] + hMidx[1,0,0] + hMidy[0,0,0] + hMidy[0,1,0]) * \\\n",
    "                (hs[2,0,0] - hs[0,0,0]) / (dx[0,0,0] + dx[1,0,0])\n",
    "        \n",
    "        # Update latitudinal moment\n",
    "        temp_bool=hMidx > 0.0\n",
    "        VxMid = temp_bool * (hvMidx * huMidx / hMidx)\n",
    "                            \n",
    "        temp_bool=hMidy > 0.0\n",
    "        Vy1Mid = temp_bool * (hvMidy * hvMidy / hMidy * cMidy)\n",
    "        \n",
    "        \n",
    "        Vy2Mid = 0.5 * g * hMidy * hMidy\n",
    "        hvnew=0.0\n",
    " \n",
    "        hvnew = hv[1,1,0] - \\\n",
    "                dt / dxc * (VxMid[1,0,0] - VxMid[0,0,0]) - \\\n",
    "                dt / dy1c * (Vy1Mid[0,1,0] - Vy1Mid[0,0,0]) - \\\n",
    "                dt / dyc * (Vy2Mid[0,1,0] - Vy2Mid[0,0,0]) - \\\n",
    "                dt * (f[0,0,0] + \\\n",
    "                            0.25 * (huMidx[0,0,0] / hMidx[0,0,0] + \\\n",
    "                                    huMidx[1,0,0] / hMidx[1,0,0] + \\\n",
    "                                    huMidy[0,0,0] / hMidy[0,0,0] + \\\n",
    "                                    huMidy[0,1,0] / hMidy[0,1,0]) * \\\n",
    "                            tg / a) * \\\n",
    "                0.25 * (huMidx[0,0,0] + huMidx[1,0,0] + huMidy[0,0,0] + huMidy[0,1,0]) - \\\n",
    "                            dt * g * \\\n",
    "                0.25 * (hMidx[0,0,0] + hMidx[1,0,0] + hMidy[0,0,0] + hMidy[0,1,0]) * \\\n",
    "                (hs[1,2,0] - hs[1,0,0]) / (dy1[1,1,0] + dy1[1,0,0]) #Klopt dit laatste?\n",
    "\n",
    "        # Come back to original variables\n",
    "        unew = hunew / hnew\n",
    "        vnew = hvnew / hnew\n",
    "            "
   ]
  },
  {
   "cell_type": "code",
   "execution_count": null,
   "id": "cd76cc9d-542c-4e05-847c-c982ca2c80aa",
   "metadata": {},
   "outputs": [],
   "source": [
    "       \n",
    "        \n",
    "       "
   ]
  },
  {
   "cell_type": "code",
   "execution_count": 86,
   "id": "bb2b8d47-771a-4db0-b761-8e1fa414ee10",
   "metadata": {},
   "outputs": [],
   "source": [
    "test_it = gtscript.stencil(definition=test_function, backend=backend, externals={\"xMid\": xMid, \"yMid\": yMid, \"xMid_hu\": xMid_hu, \"yMid_hu\": yMid_hu, \"xMid_hv\": xMid_hv, \"yMid_hv\": yMid_hv})\n",
    "H0 = gtscript.stencil(definition=compute_H0, backend=backend)\n",
    "compFS = gtscript.stencil(definition=compute_Final_Step, backend=backend)\n"
   ]
  },
  {
   "cell_type": "code",
   "execution_count": 87,
   "id": "38feab28-a0af-4159-a59e-25ab76204670",
   "metadata": {},
   "outputs": [],
   "source": [
    "# grid size\n",
    "nx = 10\n",
    "ny = 10\n",
    "nz=1\n",
    "\n",
    "backend='numpy'\n",
    "\n",
    "# storage shape\n",
    "shape = (nx, ny, nz)\n",
    "\n",
    "# default origin (trust it for now!)\n",
    "default_origin = (0, 0,0)"
   ]
  },
  {
   "cell_type": "code",
   "execution_count": 88,
   "id": "d27c594f-0082-4f8f-8067-d705750c7553",
   "metadata": {},
   "outputs": [
    {
     "data": {
      "text/plain": [
       "(10, 10, 1)"
      ]
     },
     "execution_count": 88,
     "metadata": {},
     "output_type": "execute_result"
    }
   ],
   "source": [
    "shape"
   ]
  },
  {
   "cell_type": "code",
   "execution_count": 89,
   "id": "7a5c277e-3483-408b-9f21-75ed22958cac",
   "metadata": {},
   "outputs": [
    {
     "name": "stdout",
     "output_type": "stream",
     "text": [
      "(10, 10, 1)\n"
     ]
    },
    {
     "data": {
      "image/png": "[encoded data removed]",
      "text/plain": [
       "<Figure size 432x288 with 2 Axes>"
      ]
     },
     "metadata": {
      "needs_background": "light"
     },
     "output_type": "display_data"
    }
   ],
   "source": [
    "h=[np.sin(np.arange(nx)),]*ny\n",
    "h=np.expand_dims(h, axis=2)\n",
    "plt.imshow(h)\n",
    "plt.colorbar()\n",
    "print(np.shape(h))"
   ]
  },
  {
   "cell_type": "code",
   "execution_count": 90,
   "id": "bf8e59c2-6e7a-4421-a7ee-670e5c9bdae4",
   "metadata": {},
   "outputs": [],
   "source": [
    "# allocate a storage filled with ones\n",
    "u = gt.storage.ones(backend, default_origin, shape, dtype=float)\n",
    "v = gt.storage.ones(backend, default_origin, shape, dtype=float)\n",
    "\n",
    "hMidx = gt.storage.from_array(np.ones((nx-1, ny-1, nz)), backend, default_origin)\n",
    "hMidy = gt.storage.from_array(np.ones((nx-1, ny-1, nz)), backend, default_origin)\n",
    "\n",
    "huMidx = gt.storage.from_array(np.ones((nx-1, ny-1, nz)), backend, default_origin)\n",
    "huMidy = gt.storage.from_array(np.ones((nx-1, ny-1, nz)), backend, default_origin)\n",
    "\n",
    "hvMidx = gt.storage.from_array(np.ones((nx-1, ny-1, nz)), backend, default_origin)\n",
    "hvMidy = gt.storage.from_array(np.ones((nx-1, ny-1, nz)), backend, default_origin)\n",
    "\n",
    "\n",
    "h=[np.sin(np.arange(nx)),]*ny\n",
    "h=np.expand_dims(h, axis=2)\n",
    "h = gt.storage.from_array(h, backend, default_origin)\n",
    "h_new = gt.storage.from_array(np.random.rand(*shape), backend, default_origin)\n",
    "\n",
    "f = gt.storage.from_array(np.ones(shape), backend, default_origin)\n",
    "\n",
    "tgMidx = gt.storage.from_array(np.ones((nx-1, ny, nz)), backend, default_origin)\n",
    "tgMidy = gt.storage.from_array(np.ones((nx,ny-1, nz)), backend, default_origin)\n",
    "\n",
    "cMidy = gt.storage.from_array(np.ones((nx-1,ny-1, nz)), backend, default_origin)\n",
    "\n",
    "dx = gt.storage.from_array(np.ones((nx-1, ny, nz)), backend, default_origin)\n",
    "dy = gt.storage.from_array(np.ones((nx,ny-1, nz)), backend, default_origin)\n",
    "dy1 = gt.storage.from_array(np.ones((nx,ny-1, nz)), backend, default_origin)\n",
    "\n",
    "dxc = gt.storage.from_array(np.ones((nx-2,ny-2, nz)), backend, default_origin)\n",
    "dy1c = gt.storage.from_array(np.ones((nx-2,ny-2, nz)), backend, default_origin)\n",
    "\n",
    "c = gt.storage.from_array(np.ones(shape), backend, default_origin)"
   ]
  },
  {
   "cell_type": "code",
   "execution_count": 91,
   "id": "389b85fc-330f-4407-a188-236f8ec143e4",
   "metadata": {},
   "outputs": [
    {
     "data": {
      "text/plain": [
       "<matplotlib.image.AxesImage at 0x15545bf07490>"
      ]
     },
     "execution_count": 91,
     "metadata": {},
     "output_type": "execute_result"
    },
    {
     "data": {
      "image/png": "[encoded data removed]",
      "text/plain": [
       "<Figure size 720x720 with 2 Axes>"
      ]
     },
     "metadata": {
      "needs_background": "light"
     },
     "output_type": "display_data"
    }
   ],
   "source": [
    "plt.figure(figsize=(10,10))\n",
    "plt.subplot(2,1,1)\n",
    "plt.imshow(np.asarray(hMidx))\n",
    "plt.subplot(2,1,2)\n",
    "plt.imshow(np.asarray(hMidy))"
   ]
  },
  {
   "cell_type": "code",
   "execution_count": 92,
   "id": "59034635-6281-48c5-b7cd-433eca48a341",
   "metadata": {},
   "outputs": [],
   "source": [
    "test_it(\n",
    "    u, \n",
    "    v,\n",
    "    hMidx,\n",
    "    hMidy,\n",
    "    huMidx,\n",
    "    huMidy,\n",
    "    hvMidx,\n",
    "    hvMidy,\n",
    "    h,\n",
    "    h_new,\n",
    "    f,\n",
    "    tgMidx,\n",
    "    tgMidy,\n",
    "    dx,\n",
    "    dy,\n",
    "    dy1,\n",
    "    c,\n",
    "    dt=1.0,\n",
    "    g=9.81,\n",
    "    a=1.0,\n",
    "    origin=(0,0,0), domain=(nx-1, ny-1, nz))"
   ]
  },
  {
   "cell_type": "code",
   "execution_count": 93,
   "id": "f231368b-972b-448b-84c1-fc4b29ce853b",
   "metadata": {},
   "outputs": [
    {
     "data": {
      "text/plain": [
       "<matplotlib.image.AxesImage at 0x15545bc83520>"
      ]
     },
     "execution_count": 93,
     "metadata": {},
     "output_type": "execute_result"
    },
    {
     "data": {
      "image/png": "[encoded data removed]",
      "text/plain": [
       "<Figure size 720x720 with 2 Axes>"
      ]
     },
     "metadata": {
      "needs_background": "light"
     },
     "output_type": "display_data"
    }
   ],
   "source": [
    "plt.figure(figsize=(10,10))\n",
    "plt.subplot(2,1,1)\n",
    "plt.imshow(np.asarray(hMidx))\n",
    "plt.subplot(2,1,2)\n",
    "plt.imshow(np.asarray(hMidy))"
   ]
  },
  {
   "cell_type": "code",
   "execution_count": 94,
   "id": "618b1bd9-3c8b-4243-b162-f0c828fc9915",
   "metadata": {},
   "outputs": [
    {
     "data": {
      "text/plain": [
       "<matplotlib.image.AxesImage at 0x15545bce5e80>"
      ]
     },
     "execution_count": 94,
     "metadata": {},
     "output_type": "execute_result"
    },
    {
     "data": {
      "image/png": "[encoded data removed]",
      "text/plain": [
       "<Figure size 432x288 with 1 Axes>"
      ]
     },
     "metadata": {
      "needs_background": "light"
     },
     "output_type": "display_data"
    }
   ],
   "source": [
    "h_new = gt.storage.from_array(np.zeros((nx-2, ny-2, nz)), backend, default_origin)\n",
    "\n",
    "plt.imshow(np.asarray(h_new))"
   ]
  },
  {
   "cell_type": "code",
   "execution_count": 98,
   "id": "914880ad-b284-4023-b664-a486f715516e",
   "metadata": {},
   "outputs": [],
   "source": [
    "H0(h, \n",
    "   h_new,\n",
    "   huMidx, hvMidy,\n",
    "   cMidy, dxc,\n",
    "   dy1c,\n",
    "   dt=1.0, origin=(0,0,0), domain=(nx-2, ny-2, nz))"
   ]
  },
  {
   "cell_type": "code",
   "execution_count": 99,
   "id": "545bd8dc-6012-45bf-900e-0d0cafc359bb",
   "metadata": {},
   "outputs": [
    {
     "data": {
      "text/plain": [
       "<matplotlib.colorbar.Colorbar at 0x15545be7c910>"
      ]
     },
     "execution_count": 99,
     "metadata": {},
     "output_type": "execute_result"
    },
    {
     "data": {
      "image/png": "[encoded data removed]",
      "text/plain": [
       "<Figure size 432x288 with 2 Axes>"
      ]
     },
     "metadata": {
      "needs_background": "light"
     },
     "output_type": "display_data"
    }
   ],
   "source": [
    "plt.imshow(np.asarray(h_new))\n",
    "plt.colorbar()"
   ]
  },
  {
   "cell_type": "code",
   "execution_count": 100,
   "id": "d015d60f-8e30-4096-aec7-231ec920cbad",
   "metadata": {},
   "outputs": [
    {
     "data": {
      "text/plain": [
       "(10, 10, 1)"
      ]
     },
     "execution_count": 100,
     "metadata": {},
     "output_type": "execute_result"
    }
   ],
   "source": [
    "np.shape(vnew)"
   ]
  },
  {
   "cell_type": "code",
   "execution_count": 101,
   "id": "9303c4ab-d66a-44da-849f-7620fcf1d83c",
   "metadata": {},
   "outputs": [],
   "source": [
    "hnew = gt.storage.from_array(np.random.rand(*shape), backend, default_origin)\n",
    "hu = gt.storage.from_array(np.ones(shape), backend, default_origin)\n",
    "hv = gt.storage.from_array(np.ones(shape), backend, default_origin)\n",
    "hs = gt.storage.from_array(np.ones(shape), backend, default_origin)\n",
    "tg = gt.storage.from_array(np.ones(shape), backend, default_origin)\n",
    "dyc = gt.storage.from_array(np.ones(shape), backend, default_origin)\n",
    "unew = gt.storage.from_array(np.ones(shape), backend, default_origin)\n",
    "vnew = gt.storage.from_array(np.ones(shape), backend, default_origin)\n",
    "\n",
    "compFS(h, \n",
    "    hnew,\n",
    "    hu,\n",
    "    hv,\n",
    "    hs,\n",
    "    tg,\n",
    "    f,\n",
    "    huMidx,\n",
    "    huMidy,\n",
    "    hvMidx,\n",
    "    hvMidy,\n",
    "    hMidx,\n",
    "    hMidy,\n",
    "    cMidy,\n",
    "    dx,\n",
    "    dy1,\n",
    "    dxc,\n",
    "    dyc,\n",
    "    dy1c,\n",
    "    unew,\n",
    "    vnew,\n",
    "    g=9.81,\n",
    "    a=1.0,\n",
    "    dt=1.0, origin=(0,0,0), domain=(nx-2, ny-2, nz))"
   ]
  },
  {
   "cell_type": "code",
   "execution_count": 105,
   "id": "a03f1c7a-b62a-42d9-8718-e05c95889ac6",
   "metadata": {},
   "outputs": [
    {
     "data": {
      "text/plain": [
       "<matplotlib.colorbar.Colorbar at 0x15545b907850>"
      ]
     },
     "execution_count": 105,
     "metadata": {},
     "output_type": "execute_result"
    },
    {
     "data": {
      "image/png": "[encoded data removed]",
      "text/plain": [
       "<Figure size 432x288 with 2 Axes>"
      ]
     },
     "metadata": {
      "needs_background": "light"
     },
     "output_type": "display_data"
    }
   ],
   "source": [
    "plt.imshow(np.asarray(vnew[:,:,0]))\n",
    "plt.colorbar()"
   ]
  },
  {
   "cell_type": "code",
   "execution_count": null,
   "id": "5204f7d5-dc15-41a1-8f8f-9650beeab845",
   "metadata": {},
   "outputs": [],
   "source": []
  },
  {
   "cell_type": "code",
   "execution_count": null,
   "id": "282d8c3d-d0c0-44ce-a9b3-fc283492b7cc",
   "metadata": {},
   "outputs": [],
   "source": [
    "# --- Auxiliary variables --- #\n",
    "\n",
    "v1\t= v * self.c\n",
    "hu\t= h * u\n",
    "hv\t= h * v\n",
    "hv1 = h * v1\n",
    "\n",
    "# --- Compute mid-point values after half timestep --- #\n",
    "\n",
    "# Mid-point value for h along x\n",
    "hMidx = 0.5 * (h[1:,1:-1] + h[:-1,1:-1]) - \\\n",
    "     0.5 * self.dt / self.dx[:,1:-1] * (hu[1:,1:-1] - hu[:-1,1:-1])\n",
    "\n",
    "# Mid-point value for h along y\n",
    "hMidy = 0.5 * (h[1:-1,1:] + h[1:-1,:-1]) - \\\n",
    "     0.5 * self.dt / self.dy1[1:-1,:] * (hv1[1:-1,1:] - hv1[1:-1,:-1])\n",
    "\n",
    "# Mid-point value for hu along x\n",
    "Ux = hu * u + 0.5 * self.g * h * h\n",
    "huMidx = 0.5 * (hu[1:,1:-1] + hu[:-1,1:-1]) - \\\n",
    "        0.5 * self.dt / self.dx[:,1:-1] * (Ux[1:,1:-1] - Ux[:-1,1:-1]) + \\\n",
    "        0.5 * self.dt * \\\n",
    "        (0.5 * (self.f[1:,1:-1] + self.f[:-1,1:-1]) + \\\n",
    "        0.5 * (self.u[1:,1:-1] + self.u[:-1,1:-1]) * self.tgMidx / self.a) * \\\n",
    "        (0.5 * (hv[1:,1:-1] + hv[:-1,1:-1]))\n",
    "\n",
    "# Mid-point value for hu along y\n",
    "Uy = hu * v1\n",
    "huMidy = 0.5 * (hu[1:-1,1:] + hu[1:-1,:-1]) - \\\n",
    "        0.5 * self.dt / self.dy1[1:-1,:] * (Uy[1:-1,1:] - Uy[1:-1,:-1]) + \\\n",
    "        0.5 * self.dt * \\\n",
    "        (0.5 * (self.f[1:-1,1:] + self.f[1:-1,:-1]) + \\\n",
    "        0.5 * (u[1:-1,1:] + u[1:-1,:-1]) * self.tgMidy / self.a) * \\\n",
    "        (0.5 * (hv[1:-1,1:] + hv[1:-1,:-1]))\n",
    "\n",
    "# Mid-point value for hv along x\n",
    "Vx = hu * v\n",
    "hvMidx = 0.5 * (hv[1:,1:-1] + hv[:-1,1:-1]) - \\\n",
    "        0.5 * self.dt / self.dx[:,1:-1] * (Vx[1:,1:-1] - Vx[:-1,1:-1]) - \\\n",
    "        0.5 * self.dt * \\\n",
    "        (0.5 * (self.f[1:,1:-1] + self.f[:-1,1:-1]) + \\\n",
    "        0.5 * (u[1:,1:-1] + u [:-1,1:-1]) * self.tgMidx / self.a) * \\\n",
    "        (0.5 * (hu[1:,1:-1] + hu[:-1,1:-1]))\n",
    "\n",
    "# Mid-point value for hv along y\n",
    "Vy1 = hv * v1\n",
    "Vy2 = 0.5 * self.g * h * h\n",
    "hvMidy = 0.5 * (hv[1:-1,1:] + hv[1:-1,:-1]) - \\\n",
    "        0.5 * self.dt / self.dy1[1:-1,:] * (Vy1[1:-1,1:] - Vy1[1:-1,:-1]) - \\\n",
    "        0.5 * self.dt / self.dy[1:-1,:] * (Vy2[1:-1,1:] - Vy2[1:-1,:-1]) - \\\n",
    "        0.5 * self.dt * \\\n",
    "        (0.5 * (self.f[1:-1,1:] + self.f[1:-1,:-1]) + \\\n",
    "        0.5 * (u[1:-1,1:] + u[1:-1,:-1]) * self.tgMidy / self.a) * \\\n",
    "        (0.5 * (hu[1:-1,1:] + hu[1:-1,:-1]))\n"
   ]
  },
  {
   "cell_type": "code",
   "execution_count": null,
   "id": "51a212a1-17eb-4b2c-af3f-ef52e01ecf58",
   "metadata": {},
   "outputs": [],
   "source": []
  },
  {
   "cell_type": "code",
   "execution_count": null,
   "id": "d979f4a0-6afa-43b9-8100-17d38211cc4f",
   "metadata": {},
   "outputs": [],
   "source": []
  },
  {
   "cell_type": "markdown",
   "id": "f19add26-b6a5-4815-baca-337a130faf90",
   "metadata": {},
   "source": [
    "## Final functions for swes"
   ]
  },
  {
   "cell_type": "code",
   "execution_count": null,
   "id": "3dd49003-c278-4cbd-af1a-c22ff9a8b25a",
   "metadata": {},
   "outputs": [],
   "source": [
    "#Compute x staggered\n",
    "\n",
    "\n",
    "def x_staggered_first_step(\n",
    "    u: gtscript.Field[float], \n",
    "    v: gtscript.Field[float],\n",
    "    hMidx: gtscript.Field[float],\n",
    "    hMidy: gtscript.Field[float],\n",
    "    huMidx: gtscript.Field[float],\n",
    "    huMidy: gtscript.Field[float],\n",
    "    hvMidx: gtscript.Field[float],\n",
    "    hvMidy: gtscript.Field[float],\n",
    "    h: gtscript.Field[float],\n",
    "    h_new: gtscript.Field[float],\n",
    "    f: gtscript.Field[float],\n",
    "    tgMidx: gtscript.Field[float],\n",
    "    tgMidy: gtscript.Field[float],\n",
    "    dx: gtscript.Field[float],\n",
    "    dy: gtscript.Field[float],\n",
    "    dy1: gtscript.Field[float],\n",
    "    c: gtscript.Field[float],\n",
    "    *,\n",
    "    dt: float,\n",
    "    g: float,\n",
    "    a: float):\n",
    "    from __gtscript__ import PARALLEL, computation, interval\n",
    "    from __externals__ import xMid, yMid, xMid_hu, yMid_hu, xMid_hv, yMid_hv\n",
    "    \n",
    "    with computation(PARALLEL), interval(...):\n",
    "            hu = h * u\n",
    "            v1 = v * c\n",
    "            hv = h * v\n",
    "            hv1 = h * v1\n",
    "            \n",
    "            Ux = hu * u + 0.5 * g * h * h\n",
    "            Uy = hu * v1\n",
    "            Vx = hu * v\n",
    "            \n",
    "            Vy1 = hv * v1\n",
    "            Vy2 = 0.5 * g * h * h\n",
    "            \n",
    "            # Mid-point value for h along x\n",
    "            hMidx = xMid(dx, h, hu, dt)\n",
    "            huMidx = xMid_hu(dx, dt, hu, hv, Ux, f, u, tgMidx, a)\n",
    "            hvMidx = xMid_hv(dx, dt, hu, hv, Vx, f, u, tgMidx, a)\n",
    "    \n",
    "    \n",
    "\n",
    "def y_staggered_first_step(\n",
    "    u: gtscript.Field[float], \n",
    "    v: gtscript.Field[float],\n",
    "    hMidx: gtscript.Field[float],\n",
    "    hMidy: gtscript.Field[float],\n",
    "    huMidx: gtscript.Field[float],\n",
    "    huMidy: gtscript.Field[float],\n",
    "    hvMidx: gtscript.Field[float],\n",
    "    hvMidy: gtscript.Field[float],\n",
    "    h: gtscript.Field[float],\n",
    "    h_new: gtscript.Field[float],\n",
    "    f: gtscript.Field[float],\n",
    "    tgMidx: gtscript.Field[float],\n",
    "    tgMidy: gtscript.Field[float],\n",
    "    dx: gtscript.Field[float],\n",
    "    dy: gtscript.Field[float],\n",
    "    dy1: gtscript.Field[float],\n",
    "    c: gtscript.Field[float],\n",
    "    *,\n",
    "    dt: float,\n",
    "    g: float,\n",
    "    a: float):\n",
    "    from __gtscript__ import PARALLEL, computation, interval\n",
    "    from __externals__ import xMid, yMid, xMid_hu, yMid_hu, xMid_hv, yMid_hv\n",
    "    \n",
    "    with computation(PARALLEL), interval(...):\n",
    "            # Mid-point value for h along y\n",
    "            hMidy = yMid(dy1, h, hv, dt)\n",
    "            huMidy = yMid_hu(dy1, dt, hu, hv, Uy, f, u, tgMidy, a)\n",
    "            hvMidy = yMid_hv(dy1, dy, dt, hu, hv,  Vy1, Vy2, f, u, tgMidy, a)\n",
    "\n",
    "\n",
    "\n",
    "\n",
    "\n",
    "\n",
    "\n",
    "\n",
    "\n",
    "\n",
    "\n",
    "@gtscript.function\n",
    "def xMid(dx, dt, h, hu):\n",
    "    return 0.5 * (h[1, 0,0] + h[0,0,0]) - 0.5 * dt / dx[0,0,0] * (hu[1,0,0] - hu[0,0,0])\n",
    "\n",
    "@gtscript.function\n",
    "def yMid(dy1, dt, h, hv1):\n",
    "    return 0.5 * (h[0,1,0] + h[0,0,0]) - 0.5 * dt / dy1[0,0,0] * (hv1[0,1,0] - hv1[0,0,0])\n",
    "\n",
    "@gtscript.function\n",
    "def xMid_hu(dx, dt, hu, hv, Ux, f, u, tgMidx, a):\n",
    "    return (0.5 * (hu[1, 0,0] + hu[0,0,0]) - 0.5 * dt / dx[0,0,0] * (Ux[1,0,0] - Ux[0,0,0]) + \\\n",
    "            0.5 * dt * \\\n",
    "            (0.5 * (f[1,0,0] + f[0,0,0]) + \\\n",
    "            0.5 * (u[1,0,0] + u[0,0,0]) * tgMidx / a) * \\\n",
    "            (0.5 * (hv[1,0,0] + hv[0,0,0])))           \n",
    "\n",
    "@gtscript.function\n",
    "def yMid_hu(dy1, dt, hu, hv, Uy, f, u, tgMidy, a):\n",
    "    return (0.5 * (hu[0,1,0] + hu[0,0,0]) - 0.5 * dt / dy1[0,0,0] * (Uy[0,1,0] - Uy[0,0,0]) + \\\n",
    "        0.5 * dt * \\\n",
    "        (0.5 * (f[0,1,0] + f[0,0,0]) + \\\n",
    "        0.5 * (u[0,1,0] + u[0,0,0]) * tgMidy / a) * \\\n",
    "        (0.5 * (hv[0,1,0] + hv[0,0,0])))\n",
    "\n",
    "            \n",
    "@gtscript.function\n",
    "def xMid_hv(dx, dt, hu, hv, Vx, f, u, tgMidx, a):\n",
    "    return (0.5 * (hv[1, 0,0] + hv[0,0,0]) - 0.5 * dt / dx[0,0,0] * (Vx[1,0,0] - Vx[0,0,0]) - \\\n",
    "            0.5 * dt * \\\n",
    "            (0.5 * (f[1,0,0] + f[0,0,0]) + \\\n",
    "            0.5 * (u[1,0,0] + u[0,0,0]) * tgMidx / a) * \\\n",
    "            (0.5 * (hu[1,0,0] + hu[0,0,0])))    \n",
    "            \n",
    "            \n",
    "@gtscript.function\n",
    "def yMid_hv(dy1, dy, dt, hu, hv,  Vy1, Vy2, f, u, tgMidy, a):\n",
    "    return (0.5 * (hv[0,1,0] + hv[0,0,0]) \\\n",
    "            - 0.5 * dt / dy1[0,0,0] * (Vy1[0,1,0] - Vy1[0,0,0]) -  \\\n",
    "            0.5 * dt / dy[0,0,0] * (Vy2[0,1,0] - Vy2[0,0,0]) -\\\n",
    "            0.5 * dt * \\\n",
    "            (0.5 * (f[0,1,0] + f[0,0,0]) + \\\n",
    "            0.5 * (u[0,1,0] + u[0,0,0]) * tgMidy / a) * \\\n",
    "            (0.5 * (hu[0,1,0] + hu[0,0,0])))           \n",
    "            \n",
    "        \n",
    "def test_function(\n",
    "    u: gtscript.Field[float], \n",
    "    v: gtscript.Field[float],\n",
    "    hMidx: gtscript.Field[float],\n",
    "    hMidy: gtscript.Field[float],\n",
    "    huMidx: gtscript.Field[float],\n",
    "    huMidy: gtscript.Field[float],\n",
    "    hvMidx: gtscript.Field[float],\n",
    "    hvMidy: gtscript.Field[float],\n",
    "    h: gtscript.Field[float],\n",
    "    h_new: gtscript.Field[float],\n",
    "    f: gtscript.Field[float],\n",
    "    tgMidx: gtscript.Field[float],\n",
    "    tgMidy: gtscript.Field[float],\n",
    "    dx: gtscript.Field[float],\n",
    "    dy: gtscript.Field[float],\n",
    "    dy1: gtscript.Field[float],\n",
    "    c: gtscript.Field[float],\n",
    "    *,\n",
    "    dt: float,\n",
    "    g: float,\n",
    "    a: float):\n",
    "    from __gtscript__ import PARALLEL, computation, interval\n",
    "    from __externals__ import xMid, yMid, xMid_hu, yMid_hu, xMid_hv, yMid_hv\n",
    "    \n",
    "    with computation(PARALLEL), interval(...):\n",
    "            hu = h * u\n",
    "            v1 = v * c\n",
    "            hv = h * v\n",
    "            hv1 = h * v1\n",
    "            \n",
    "            Ux = hu * u + 0.5 * g * h * h\n",
    "            Uy = hu * v1\n",
    "            Vx = hu * v\n",
    "            \n",
    "            Vy1 = hv * v1\n",
    "            Vy2 = 0.5 * g * h * h\n",
    "            \n",
    "            # Mid-point value for h along x\n",
    "            hMidx = xMid(dx, h, hu, dt)\n",
    "            # Mid-point value for h along y\n",
    "            hMidy = yMid(dx, h, hv, dt)\n",
    "            \n",
    "            huMidx = xMid_hu(dx, dt, hu, hv, Ux, f, u, tgMidx, a)\n",
    "            huMidy = yMid_hu(dy1, dt, hu, hv, Uy, f, u, tgMidy, a)\n",
    "            \n",
    "            hvMidx = xMid_hv(dx, dt, hu, hv, Vx, f, u, tgMidx, a)\n",
    "            hvMidy = yMid_hv(dy1, dy, dt, hu, hv,  Vy1, Vy2, f, u, tgMidy, a)"
   ]
  },
  {
   "cell_type": "code",
   "execution_count": null,
   "id": "8babdfb7-8938-479f-b54d-067441b4ec5f",
   "metadata": {},
   "outputs": [],
   "source": []
  },
  {
   "cell_type": "code",
   "execution_count": null,
   "id": "2d46f451-8b26-494c-86b3-45720453686a",
   "metadata": {},
   "outputs": [],
   "source": []
  },
  {
   "cell_type": "code",
   "execution_count": null,
   "id": "4443fc71-3f09-43be-8fb7-29aa25f47c4d",
   "metadata": {},
   "outputs": [],
   "source": []
  },
  {
   "cell_type": "code",
   "execution_count": null,
   "id": "2a1be136-8ea0-468b-b7c5-2aedd57453e1",
   "metadata": {},
   "outputs": [],
   "source": []
  },
  {
   "cell_type": "code",
   "execution_count": null,
   "id": "b9f18409-ea21-4f1f-981a-3c5675accb57",
   "metadata": {},
   "outputs": [],
   "source": []
  },
  {
   "cell_type": "code",
   "execution_count": null,
   "id": "267f957e-c5d4-42c8-b47f-0f8558eb3848",
   "metadata": {},
   "outputs": [],
   "source": []
  }
 ],
 "metadata": {
  "kernelspec": {
   "display_name": "HPC4WC_kernel",
   "language": "python",
   "name": "hpc4wc_kernel"
  },
  "language_info": {
   "codemirror_mode": {
    "name": "ipython",
    "version": 3
   },
   "file_extension": ".py",
   "mimetype": "text/x-python",
   "name": "python",
   "nbconvert_exporter": "python",
   "pygments_lexer": "ipython3",
   "version": "3.9.4"
  }
 },
 "nbformat": 4,
 "nbformat_minor": 5
}
