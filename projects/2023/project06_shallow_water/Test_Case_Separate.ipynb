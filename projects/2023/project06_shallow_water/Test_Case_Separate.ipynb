{
 "cells": [
  {
   "cell_type": "code",
   "execution_count": 4,
   "id": "e9b1e77d-aecc-4078-b5f5-d118f9e2a80a",
   "metadata": {},
   "outputs": [],
   "source": [
    "import gt4py as gt\n",
    "from gt4py import gtscript\n",
    "import matplotlib as mpl\n",
    "import matplotlib.pyplot as plt\n",
    "import numpy as np\n",
    "mpl.rcParams[\"font.size\"] = 16"
   ]
  },
  {
   "cell_type": "code",
   "execution_count": null,
   "id": "3fcb541e-fed5-4a28-afc6-243a1456d4ce",
   "metadata": {},
   "outputs": [],
   "source": []
  },
  {
   "cell_type": "code",
   "execution_count": 5,
   "id": "6f16572f-7b4d-474f-a9d8-f7e3b3b1b4f5",
   "metadata": {},
   "outputs": [],
   "source": [
    "#Compute x staggered\n",
    "@gtscript.function\n",
    "def xMid(dx, dt, h, hu):\n",
    "    return 0.5 * (h[1, 0,0] + h[0,0,0]) - 0.5 * dt / dx[0,0,0] * (hu[1,0,0] - hu[0,0,0])\n",
    "\n",
    "@gtscript.function\n",
    "def yMid(dy1, dt, h, hv1):\n",
    "    return 0.5 * (h[0,1,0] + h[0,0,0]) - 0.5 * dt / dy1[0,0,0] * (hv1[0,1,0] - hv1[0,0,0])\n",
    "\n",
    "@gtscript.function\n",
    "def xMid_hu(dx, dt, hu, hv, Ux, f, u, tgMidx, a):\n",
    "    return (0.5 * (hu[1, 0,0] + hu[0,0,0]) - 0.5 * dt / dx[0,0,0] * (Ux[1,0,0] - Ux[0,0,0]) + \\\n",
    "            0.5 * dt * \\\n",
    "            (0.5 * (f[1,0,0] + f[0,0,0]) + \\\n",
    "            0.5 * (u[1,0,0] + u[0,0,0]) * tgMidx / a) * \\\n",
    "            (0.5 * (hv[1,0,0] + hv[0,0,0])))           \n",
    "\n",
    "@gtscript.function\n",
    "def yMid_hu(dy1, dt, hu, hv, Uy, f, u, tgMidy, a):\n",
    "    return (0.5 * (hu[0,1,0] + hu[0,0,0]) - 0.5 * dt / dy1[0,0,0] * (Uy[0,1,0] - Uy[0,0,0]) + \\\n",
    "        0.5 * dt * \\\n",
    "        (0.5 * (f[0,1,0] + f[0,0,0]) + \\\n",
    "        0.5 * (u[0,1,0] + u[0,0,0]) * tgMidy / a) * \\\n",
    "        (0.5 * (hv[0,1,0] + hv[0,0,0])))\n",
    "\n",
    "            \n",
    "@gtscript.function\n",
    "def xMid_hv(dx, dt, hu, hv, Vx, f, u, tgMidx, a):\n",
    "    return (0.5 * (hv[1, 0,0] + hv[0,0,0]) - 0.5 * dt / dx[0,0,0] * (Vx[1,0,0] - Vx[0,0,0]) - \\\n",
    "            0.5 * dt * \\\n",
    "            (0.5 * (f[1,0,0] + f[0,0,0]) + \\\n",
    "            0.5 * (u[1,0,0] + u[0,0,0]) * tgMidx / a) * \\\n",
    "            (0.5 * (hu[1,0,0] + hu[0,0,0])))    \n",
    "            \n",
    "            \n",
    "@gtscript.function\n",
    "def yMid_hv(dy1, dy, dt, hu, hv,  Vy1, Vy2, f, u, tgMidy, a):\n",
    "    return (0.5 * (hv[0,1,0] + hv[0,0,0]) \\\n",
    "            - 0.5 * dt / dy1[0,0,0] * (Vy1[0,1,0] - Vy1[0,0,0]) -  \\\n",
    "            0.5 * dt / dy[0,0,0] * (Vy2[0,1,0] - Vy2[0,0,0]) -\\\n",
    "            0.5 * dt * \\\n",
    "            (0.5 * (f[0,1,0] + f[0,0,0]) + \\\n",
    "            0.5 * (u[0,1,0] + u[0,0,0]) * tgMidy / a) * \\\n",
    "            (0.5 * (hu[0,1,0] + hu[0,0,0])))\n",
    "\n",
    "\n",
    "def compute_temp_variables(\n",
    "    u: gtscript.Field[float], \n",
    "    v: gtscript.Field[float],\n",
    "    h: gtscript.Field[float],\n",
    "    c: gtscript.Field[float],\n",
    "\n",
    "    hu: gtscript.Field[float],\n",
    "    hv: gtscript.Field[float],\n",
    "    v1: gtscript.Field[float]):\n",
    "    \n",
    "    with computation(PARALLEL), interval(...):\n",
    "        hu = h * u\n",
    "        v1 = v * c\n",
    "        hv = h * v\n",
    "\n",
    "    \n",
    "def x_staggered_first_step(\n",
    "    u: gtscript.Field[float], \n",
    "    v: gtscript.Field[float],\n",
    "    h: gtscript.Field[float],\n",
    "    \n",
    "    hu: gtscript.Field[float],\n",
    "    hv: gtscript.Field[float],\n",
    "    f: gtscript.Field[float],\n",
    "    \n",
    "    dx: gtscript.Field[float],\n",
    "    tgMidx: gtscript.Field[float],\n",
    "    \n",
    "    hMidx: gtscript.Field[float],\n",
    "    huMidx: gtscript.Field[float],\n",
    "    hvMidx: gtscript.Field[float],\n",
    "    *,\n",
    "    dt: float,\n",
    "    g: float,\n",
    "    a: float):\n",
    "    from __gtscript__ import PARALLEL, computation, interval\n",
    "    from __externals__ import xMid, yMid, xMid_hu, yMid_hu, xMid_hv, yMid_hv\n",
    "    \n",
    "    with computation(PARALLEL), interval(...):\n",
    "            Ux = hu * u + 0.5 * g * h * h\n",
    "            Vx = hu * v\n",
    "            \n",
    "            # Mid-point value for h along x\n",
    "            hMidx = xMid(dx, h, hu, dt)\n",
    "            huMidx = xMid_hu(dx, dt, hu, hv, Ux, f, u, tgMidx, a)\n",
    "            hvMidx = xMid_hv(dx, dt, hu, hv, Vx, f, u, tgMidx, a)\n",
    "    \n",
    "\n",
    "def y_staggered_first_step(\n",
    "    u: gtscript.Field[float], \n",
    "    v: gtscript.Field[float],\n",
    "    h: gtscript.Field[float],\n",
    "    \n",
    "    hu: gtscript.Field[float],\n",
    "    hv: gtscript.Field[float],\n",
    "    v1: gtscript.Field[float],\n",
    "    f: gtscript.Field[float],\n",
    "    \n",
    "    dy: gtscript.Field[float],\n",
    "    dy1: gtscript.Field[float],\n",
    "    tgMidy: gtscript.Field[float],\n",
    "    \n",
    "    hMidy: gtscript.Field[float],\n",
    "    huMidy: gtscript.Field[float],\n",
    "    hvMidy: gtscript.Field[float],   \n",
    "    *,\n",
    "    dt: float,\n",
    "    g: float,\n",
    "    a: float):\n",
    "    from __gtscript__ import PARALLEL, computation, interval\n",
    "    from __externals__ import xMid, yMid, xMid_hu, yMid_hu, xMid_hv, yMid_hv\n",
    "    \n",
    "    with computation(PARALLEL), interval(...):\n",
    "            hv1 = h * v1\n",
    "            Uy = hu * v1\n",
    "            Vy1 = hv * v1\n",
    "            Vy2 = 0.5 * g * h * h\n",
    "        \n",
    "            # Mid-point value for h along y\n",
    "            hMidy = yMid(dy1, h, hv1, dt)\n",
    "            huMidy = yMid_hu(dy1, dt, hu, hv, Uy, f, u, tgMidy, a)\n",
    "            hvMidy = yMid_hv(dy1, dy, dt, hu, hv,  Vy1, Vy2, f, u, tgMidy, a)\n",
    "\n",
    "\n",
    "            "
   ]
  },
  {
   "cell_type": "code",
   "execution_count": 6,
   "id": "e262f712-c084-4c8e-814e-1c8d5e358fb3",
   "metadata": {},
   "outputs": [],
   "source": [
    "@gtscript.function\n",
    "def compute_hnew(h, dt, dxc, huMidx, dy1c, hvMidy, cMidy):\n",
    "    return h[1,1,0] -  dt / dxc[0,0,0] * (huMidx[1,0,0] - huMidx[0,0,0]) - dt /dy1c[0,0,0] * (hvMidy[0,1,0]*cMidy[0,1,0] - hvMidy[0,0,0]*cMidy[0,0,0])\n",
    "\n",
    "@gtscript.function\n",
    "def compute_hunew(hu, dt, dxc, UxMid, dy1c, UyMid, f, huMidx, hMidx, huMidy,hMidy,tg, a, hvMidx,hvMidy,g, hs,dx):\n",
    "    first= dt / dxc * (UxMid[1,0,0] - UxMid[0,0,0])\n",
    "    \n",
    "    second= dt / dy1c * (UyMid[0,1,0] - UyMid[0,0,0])\n",
    "    \n",
    "    third= dt * (f[1,1,0] +  0.25 * (huMidx[0,0,0] / hMidx[0,0,0] + \\\n",
    "                                    huMidx[1,0,0] / hMidx[1,0,0] + \\\n",
    "                                    huMidy[0,0,0] / hMidy[0,0,0] + \\\n",
    "                                    huMidy[0,1,0] / hMidy[0,1,0]) * \\\n",
    "                                    tg /a) * \\\n",
    "                                    0.25 * (hvMidx[0,0,0] + hvMidx[1,0,0] + hvMidy[0,0,0] + hvMidy[0,1,0])\n",
    "    \n",
    "    fourth= dt * g * 0.25 * (hMidx[0,0,0] + hMidx[1,0,0] + hMidy[0,0,0] + hMidy[0,1,0]) * \\\n",
    "                (hs[2,0,0] - hs[0,0,0]) / (dx[0,0,0] + dx[1,0,0])\n",
    "    \n",
    "    return hu[1,1,0] - first - second + third - fourth\n",
    "    \n",
    "\n",
    "@gtscript.function\n",
    "def compute_hvnew(hv, dt, dxc, VxMid, dy1c, Vy1Mid, dyc, Vy2Mid, f, huMidx, hMidx, huMidy, hMidy, tg, a, g, hs, dy1):\n",
    "    \n",
    "    first  = dt / dxc * (VxMid[1,0,0] - VxMid[0,0,0])\n",
    "    second = dt / dy1c * (Vy1Mid[0,1,0] - Vy1Mid[0,0,0])\n",
    "    third  = dt / dyc * (Vy2Mid[0,1,0] - Vy2Mid[0,0,0])\n",
    "    \n",
    "    fourth = dt * (f[0,0,0] + 0.25 * (huMidx[0,0,0] / hMidx[0,0,0] + \\\n",
    "                                    huMidx[1,0,0] / hMidx[1,0,0] + \\\n",
    "                                    huMidy[0,0,0] / hMidy[0,0,0] + \\\n",
    "                                    huMidy[0,1,0] / hMidy[0,1,0]) * \\\n",
    "                                    tg / a) * \\\n",
    "                                    0.25 * (huMidx[0,0,0] + huMidx[1,0,0] + huMidy[0,0,0] + huMidy[0,1,0])\n",
    "                  \n",
    "    fifth  = dt * g * 0.25 * (hMidx[0,0,0] + hMidx[1,0,0] + hMidy[0,0,0] + hMidy[0,1,0]) * (hs[1,2,0] - hs[1,0,0]) / (dy1[1,1,0] + dy1[1,0,0]) \n",
    "    \n",
    "    return hv[1,1,0] - first - second - third - fourth - fifth"
   ]
  },
  {
   "cell_type": "code",
   "execution_count": 7,
   "id": "2306e711-0769-4d40-ab42-2509a34646c5",
   "metadata": {},
   "outputs": [],
   "source": [
    "def combined_last_step(\n",
    "    h: gtscript.Field[float], \n",
    "    \n",
    "    hu: gtscript.Field[float],\n",
    "    hv: gtscript.Field[float],\n",
    "    hs: gtscript.Field[float],\n",
    "    \n",
    "    f: gtscript.Field[float],\n",
    "    tg: gtscript.Field[float],\n",
    "    \n",
    "    huMidx: gtscript.Field[float],\n",
    "    huMidy: gtscript.Field[float],\n",
    "    hvMidx: gtscript.Field[float],\n",
    "    hvMidy: gtscript.Field[float],\n",
    "    hMidx: gtscript.Field[float],\n",
    "    hMidy: gtscript.Field[float],\n",
    "    cMidy: gtscript.Field[float],\n",
    "    \n",
    "    dx: gtscript.Field[float],\n",
    "    dy1: gtscript.Field[float],\n",
    "    dxc: gtscript.Field[float],\n",
    "    dyc: gtscript.Field[float],\n",
    "    dy1c: gtscript.Field[float],\n",
    "    \n",
    "    hnew: gtscript.Field[float],\n",
    "    unew: gtscript.Field[float],\n",
    "    vnew: gtscript.Field[float],\n",
    "    *,\n",
    "    dt: float,\n",
    "    g: float,\n",
    "    a: float):\n",
    "    from __gtscript__ import PARALLEL, computation, interval\n",
    "    from __externals__ import compute_hnew, compute_hunew, compute_hvnew\n",
    "    \n",
    "    with computation(PARALLEL), interval(...):\n",
    "        # Update fluid height\n",
    "        hnew=compute_hnew(h, dt, dxc, huMidx, dy1c, hvMidy, cMidy)\n",
    "        \n",
    "        # Update longitudinal moment\n",
    "        \n",
    "        #---RECPLACED NUMPY WHERE----------------------------------------\n",
    "        temp_bool=hMidx > 0.0        \n",
    "        UxMid = temp_bool* (huMidx * huMidx / hMidx + 0.5 * g * hMidx * hMidx)\n",
    "        temp_bool=hMidx <= 0.0\n",
    "        UxMid=UxMid +  temp_bool*(0.5 * g * hMidx * hMidx)\n",
    "        \n",
    "        temp_bool=hMidy > 0.0        \n",
    "        UyMid = temp_bool* (hvMidy * cMidy * huMidy / hMidy)\n",
    "        #---RECPLACED NUMPY WHERE----------------------------------------\n",
    "        \n",
    "        hunew = compute_hunew(hu, dt, dxc, UxMid, dy1c, UyMid, f, huMidx, hMidx, huMidy,hMidy,tg, a, hvMidx,hvMidy,g, hs,dx)\n",
    "            \n",
    "        \n",
    "        #---RECPLACED NUMPY WHERE----------------------------------------\n",
    "        \n",
    "        # Update latitudinal moment\n",
    "        temp_bool=hMidx > 0.0\n",
    "        VxMid = temp_bool * (hvMidx * huMidx / hMidx)\n",
    "                            \n",
    "        temp_bool=hMidy > 0.0\n",
    "        Vy1Mid = temp_bool * (hvMidy * hvMidy / hMidy * cMidy)\n",
    "        \n",
    "        Vy2Mid = 0.5 * g * hMidy * hMidy\n",
    "        #---RECPLACED NUMPY WHERE----------------------------------------\n",
    " \n",
    "        hvnew = compute_hvnew(hv, dt, dxc, VxMid, dy1c, Vy1Mid, dyc, Vy2Mid, f, huMidx, hMidx, huMidy, hMidy, tg, a, g, hs, dy1) #Klopt dit laatste?\n",
    "        \n",
    "        \n",
    "        # Come back to original variables\n",
    "        unew = hunew / hnew\n",
    "        vnew = hvnew / hnew"
   ]
  },
  {
   "cell_type": "code",
   "execution_count": 8,
   "id": "e343ef13-0c08-482c-b59f-af0e7b7002f2",
   "metadata": {},
   "outputs": [],
   "source": [
    "backend=\"numpy\"\n",
    "temp_variables = gtscript.stencil(definition=compute_temp_variables, backend=backend)\n",
    "x_staggered = gtscript.stencil(definition=x_staggered_first_step, backend=backend, externals={\"xMid\": xMid, \"yMid\": yMid, \"xMid_hu\": xMid_hu, \"yMid_hu\": yMid_hu, \"xMid_hv\": xMid_hv, \"yMid_hv\": yMid_hv})\n",
    "y_staggered = gtscript.stencil(definition=y_staggered_first_step, backend=backend, externals={\"xMid\": xMid, \"yMid\": yMid, \"xMid_hu\": xMid_hu, \"yMid_hu\": yMid_hu, \"xMid_hv\": xMid_hv, \"yMid_hv\": yMid_hv})\n",
    "combined = gtscript.stencil(definition=combined_last_step, backend=backend, externals={\"compute_hnew\":compute_hnew, \"compute_hunew\":compute_hunew, \"compute_hvnew\":compute_hvnew})"
   ]
  },
  {
   "cell_type": "code",
   "execution_count": 17,
   "id": "f3a77c13-6a6a-4747-95b2-f245163099f6",
   "metadata": {},
   "outputs": [],
   "source": [
    "a=np.zeros((2,3))"
   ]
  },
  {
   "cell_type": "code",
   "execution_count": 19,
   "id": "02b87f1c-fbb0-443e-a970-ec8546e4566f",
   "metadata": {},
   "outputs": [
    {
     "data": {
      "text/plain": [
       "(2, 3, 1)"
      ]
     },
     "execution_count": 19,
     "metadata": {},
     "output_type": "execute_result"
    }
   ],
   "source": [
    "np.shape(np.expand_dims(a,axis=2))"
   ]
  },
  {
   "cell_type": "code",
   "execution_count": 68,
   "id": "c07b1b0f-764b-469f-9bfa-5b8cc6edb207",
   "metadata": {},
   "outputs": [],
   "source": [
    "# grid size\n",
    "nx = 10\n",
    "ny = 10\n",
    "nz=1\n",
    "\n",
    "# storage shape\n",
    "shape = (nx, ny, nz)\n",
    "default_shape = (nx-2,ny-2,nz)\n",
    "shape_staggered_x = (nx-1, ny, nz)\n",
    "shape_staggered_y = (nx, ny-1, nz)\n",
    "\n",
    "# default origin (trust it for now!)\n",
    "default_origin = (0, 0, 0)\n",
    "origin_staggered = (0,0,0)"
   ]
  },
  {
   "cell_type": "code",
   "execution_count": 69,
   "id": "f3589e2a-2e2f-4f09-ac96-fce0703e8072",
   "metadata": {},
   "outputs": [],
   "source": [
    "#TEST TEMP VARIABLES:\n",
    "u = gt.storage.ones(backend, default_origin, shape, dtype=float)\n",
    "v = gt.storage.ones(backend, default_origin, shape, dtype=float)\n",
    "h = gt.storage.ones(backend, default_origin, shape, dtype=float)\n",
    "c = gt.storage.ones(backend, default_origin, shape, dtype=float)\n",
    "\n",
    "hu=gt.storage.empty(backend, default_origin, shape, dtype=float)\n",
    "hv=gt.storage.empty(backend, default_origin, shape, dtype=float)\n",
    "v1=gt.storage.empty(backend, default_origin, shape, dtype=float)\n",
    "\n",
    "temp_variables(u,v,h,c,hu,hv,v1, origin=default_origin, domain=shape)"
   ]
  },
  {
   "cell_type": "code",
   "execution_count": 70,
   "id": "ada2ba2b-6b3e-43b3-8789-a500e3f7852f",
   "metadata": {},
   "outputs": [
    {
     "data": {
      "text/plain": [
       "<matplotlib.colorbar.Colorbar at 0x15545a3b9ac0>"
      ]
     },
     "execution_count": 70,
     "metadata": {},
     "output_type": "execute_result"
    },
    {
     "data": {
      "image/png": "[encoded data removed]",
      "text/plain": [
       "<Figure size 432x288 with 2 Axes>"
      ]
     },
     "metadata": {
      "needs_background": "light"
     },
     "output_type": "display_data"
    }
   ],
   "source": [
    "plt.imshow(np.asarray(v1))\n",
    "plt.colorbar()"
   ]
  },
  {
   "cell_type": "code",
   "execution_count": 71,
   "id": "ca540824-b757-4e4b-8193-e6d0195c0511",
   "metadata": {},
   "outputs": [],
   "source": [
    "#TEST X_STAGGERED\n",
    "dx=gt.storage.ones(backend, default_origin, shape_staggered_x, dtype=float)\n",
    "tgMidx=gt.storage.ones(backend, default_origin, shape_staggered_x, dtype=float)\n",
    "\n",
    "f = gt.storage.ones(backend, default_origin, shape, dtype=float)\n",
    "\n",
    "hMidx=gt.storage.empty(backend, default_origin, shape_staggered_x, dtype=float)\n",
    "huMidx=gt.storage.empty(backend, default_origin, shape_staggered_x, dtype=float)\n",
    "hvMidx=gt.storage.empty(backend, default_origin, shape_staggered_x, dtype=float)\n",
    "\n",
    "dt=1.0\n",
    "g=9.81\n",
    "a=1.0\n",
    "\n",
    "x_staggered(u=u,v=v,h=h,hu=hu,hv=hv,f=f,dx=dx,tgMidx=tgMidx,hMidx=hMidx,huMidx=huMidx,hvMidx=hvMidx,dt=dt,g=g,a=a, origin=default_origin, domain=shape_staggered_x)"
   ]
  },
  {
   "cell_type": "code",
   "execution_count": 72,
   "id": "3fc77db0-9688-41b9-8a44-c9fe35518423",
   "metadata": {},
   "outputs": [
    {
     "data": {
      "text/plain": [
       "<matplotlib.colorbar.Colorbar at 0x15545a2e49d0>"
      ]
     },
     "execution_count": 72,
     "metadata": {},
     "output_type": "execute_result"
    },
    {
     "data": {
      "image/png": "[encoded data removed]",
      "text/plain": [
       "<Figure size 432x288 with 2 Axes>"
      ]
     },
     "metadata": {
      "needs_background": "light"
     },
     "output_type": "display_data"
    }
   ],
   "source": [
    "plt.imshow(np.asarray(hMidx))\n",
    "plt.colorbar()"
   ]
  },
  {
   "cell_type": "code",
   "execution_count": 73,
   "id": "77a6cf7e-5edf-48e8-8bf2-ee9433178a75",
   "metadata": {},
   "outputs": [],
   "source": [
    "#TEST Y_STAGGERED\n",
    "dy=gt.storage.ones(backend, default_origin, shape_staggered_y, dtype=float)\n",
    "dy1=gt.storage.ones(backend, default_origin, shape_staggered_y, dtype=float)\n",
    "tgMidy=gt.storage.ones(backend, default_origin, shape_staggered_y, dtype=float)\n",
    "\n",
    "hMidy=gt.storage.empty(backend, default_origin, shape_staggered_y, dtype=float)\n",
    "huMidy=gt.storage.empty(backend, default_origin, shape_staggered_y, dtype=float)\n",
    "hvMidy=gt.storage.empty(backend, default_origin, shape_staggered_y, dtype=float)\n",
    "\n",
    "y_staggered(u=u,v=v,h=h,hu=hu,hv=hv,v1=v1,f=f,dy=dy,dy1=dy1,tgMidy=tgMidy,hMidy=hMidy,huMidy=huMidy,hvMidy=hvMidy,dt=dt,g=g,a=a, origin=default_origin, domain=shape_staggered_y)"
   ]
  },
  {
   "cell_type": "code",
   "execution_count": 74,
   "id": "51964bc5-619a-4c54-929a-edc9734cbb6f",
   "metadata": {},
   "outputs": [
    {
     "data": {
      "text/plain": [
       "<matplotlib.colorbar.Colorbar at 0x15545a2919d0>"
      ]
     },
     "execution_count": 74,
     "metadata": {},
     "output_type": "execute_result"
    },
    {
     "data": {
      "image/png": "[encoded data removed]",
      "text/plain": [
       "<Figure size 432x288 with 2 Axes>"
      ]
     },
     "metadata": {
      "needs_background": "light"
     },
     "output_type": "display_data"
    }
   ],
   "source": [
    "plt.imshow(np.asarray(hMidy))\n",
    "plt.colorbar()"
   ]
  },
  {
   "cell_type": "code",
   "execution_count": 75,
   "id": "5d5f269d-6219-4b36-833b-8bbc1f61b0ad",
   "metadata": {},
   "outputs": [],
   "source": [
    "hs=gt.storage.ones(backend, default_origin, shape, dtype=float)\n",
    "tg=gt.storage.ones(backend, default_origin, shape, dtype=float)\n",
    "\n",
    "cMidy=gt.storage.ones(backend, default_origin, shape_staggered_y, dtype=float)\n",
    "\n",
    "dxc=gt.storage.ones(backend, default_origin, default_shape, dtype=float)\n",
    "dyc=gt.storage.ones(backend, default_origin, default_shape, dtype=float)\n",
    "dy1c=gt.storage.ones(backend, default_origin, default_shape, dtype=float)\n",
    "\n",
    "hnew =gt.storage.empty(backend, default_origin, default_shape, dtype=float)\n",
    "unew =gt.storage.empty(backend, default_origin, default_shape, dtype=float)\n",
    "vnew =gt.storage.empty(backend, default_origin, default_shape, dtype=float)"
   ]
  },
  {
   "cell_type": "code",
   "execution_count": 76,
   "id": "dd50bdb8-316c-4d32-9738-1730f60f8bc6",
   "metadata": {},
   "outputs": [],
   "source": [
    "combined(h=h,hu=hu, hv=hv, hs=hs, f=f, tg=tg, huMidx=huMidx, huMidy=huMidy, hvMidx=hvMidx, \\\n",
    "         hvMidy=hvMidy,hMidx=hMidx, hMidy=hMidy,cMidy=cMidy, dx=dx, dy1=dy1,dxc=dxc,dyc=dyc,dy1c=dy1c,\\\n",
    "         hnew=hnew, unew=unew, vnew=vnew, \\\n",
    "         dt=dt, g=g, a=a, origin=(0,0,0), domain=default_shape)"
   ]
  },
  {
   "cell_type": "code",
   "execution_count": 77,
   "id": "8e85b051-a055-4fcc-8559-612e4724aef4",
   "metadata": {},
   "outputs": [
    {
     "data": {
      "text/plain": [
       "<matplotlib.colorbar.Colorbar at 0x15545a24ddc0>"
      ]
     },
     "execution_count": 77,
     "metadata": {},
     "output_type": "execute_result"
    },
    {
     "data": {
      "image/png": "[encoded data removed]",
      "text/plain": [
       "<Figure size 432x288 with 2 Axes>"
      ]
     },
     "metadata": {
      "needs_background": "light"
     },
     "output_type": "display_data"
    }
   ],
   "source": [
    "plt.imshow(np.asarray(hnew))\n",
    "plt.colorbar()"
   ]
  },
  {
   "cell_type": "code",
   "execution_count": 78,
   "id": "b3952b0c-ca2f-4f6f-8ea5-68ec4b17bfe0",
   "metadata": {},
   "outputs": [
    {
     "data": {
      "text/plain": [
       "<matplotlib.colorbar.Colorbar at 0x15545a16d8b0>"
      ]
     },
     "execution_count": 78,
     "metadata": {},
     "output_type": "execute_result"
    },
    {
     "data": {
      "image/png": "[encoded data removed]",
      "text/plain": [
       "<Figure size 432x288 with 2 Axes>"
      ]
     },
     "metadata": {
      "needs_background": "light"
     },
     "output_type": "display_data"
    }
   ],
   "source": [
    "plt.imshow(np.asarray(unew))\n",
    "plt.colorbar()"
   ]
  },
  {
   "cell_type": "code",
   "execution_count": 79,
   "id": "a780a81a-c544-48ee-b5db-0fd68bfdd4de",
   "metadata": {},
   "outputs": [
    {
     "data": {
      "text/plain": [
       "<matplotlib.colorbar.Colorbar at 0x15545a0927c0>"
      ]
     },
     "execution_count": 79,
     "metadata": {},
     "output_type": "execute_result"
    },
    {
     "data": {
      "image/png": "[encoded data removed]",
      "text/plain": [
       "<Figure size 432x288 with 2 Axes>"
      ]
     },
     "metadata": {
      "needs_background": "light"
     },
     "output_type": "display_data"
    }
   ],
   "source": [
    "plt.imshow(np.asarray(hs))\n",
    "plt.colorbar()"
   ]
  },
  {
   "cell_type": "code",
   "execution_count": null,
   "id": "a92def2a-4c87-4cb1-a6f9-0cbd8a6ad8cb",
   "metadata": {},
   "outputs": [],
   "source": []
  },
  {
   "cell_type": "code",
   "execution_count": null,
   "id": "154e5ee5-86e6-4c25-b5b6-e498425ad92b",
   "metadata": {},
   "outputs": [],
   "source": []
  },
  {
   "cell_type": "code",
   "execution_count": 49,
   "id": "4cdb2a08-0c84-46a2-9b74-ae11734cff69",
   "metadata": {},
   "outputs": [],
   "source": [
    "temp_bool=hMidx > 0.0\n",
    "UxMid = temp_bool* (huMidx * huMidx / hMidx + 0.5 * g * hMidx * hMidx)"
   ]
  },
  {
   "cell_type": "code",
   "execution_count": 53,
   "id": "38609637-4474-4e29-9135-3cfb3c4e6dcb",
   "metadata": {},
   "outputs": [],
   "source": [
    "temp_bool=hMidx <= 0.0\n",
    "UxMid=UxMid +  temp_bool*(0.5 * g * hMidx * hMidx)"
   ]
  },
  {
   "cell_type": "code",
   "execution_count": 55,
   "id": "f0133995-33b2-4358-aa02-90f353515435",
   "metadata": {},
   "outputs": [
    {
     "data": {
      "text/plain": [
       "<matplotlib.colorbar.Colorbar at 0x15545a77ba90>"
      ]
     },
     "execution_count": 55,
     "metadata": {},
     "output_type": "execute_result"
    },
    {
     "data": {
      "image/png": "[encoded data removed]",
      "text/plain": [
       "<Figure size 432x288 with 2 Axes>"
      ]
     },
     "metadata": {
      "needs_background": "light"
     },
     "output_type": "display_data"
    }
   ],
   "source": [
    "plt.imshow(np.asarray(UxMid))\n",
    "plt.colorbar()"
   ]
  },
  {
   "cell_type": "code",
   "execution_count": 56,
   "id": "81c635b8-76f6-4e93-9b8e-d2259a34792b",
   "metadata": {},
   "outputs": [
    {
     "ename": "NameError",
     "evalue": "name 'UyMid' is not defined",
     "output_type": "error",
     "traceback": [
      "\u001b[0;31m---------------------------------------------------------------------------\u001b[0m",
      "\u001b[0;31mNameError\u001b[0m                                 Traceback (most recent call last)",
      "Input \u001b[0;32mIn [56]\u001b[0m, in \u001b[0;36m<module>\u001b[0;34m\u001b[0m\n\u001b[0;32m----> 1\u001b[0m plt\u001b[38;5;241m.\u001b[39mimshow(compute_hunew(hu, dt, dxc, UxMid, dy1c, \u001b[43mUyMid\u001b[49m, f, huMidx, hMidx, huMidy,hMidy,tg, a, hvMidx,hvMidy,g, hs,dx))\n\u001b[1;32m      2\u001b[0m plt\u001b[38;5;241m.\u001b[39mcolorbar()\n",
      "\u001b[0;31mNameError\u001b[0m: name 'UyMid' is not defined"
     ]
    }
   ],
   "source": [
    "plt.imshow(compute_hunew(hu, dt, dxc, UxMid, dy1c, UyMid, f, huMidx, hMidx, huMidy,hMidy,tg, a, hvMidx,hvMidy,g, hs,dx))\n",
    "plt.colorbar()\n",
    "\n"
   ]
  },
  {
   "cell_type": "code",
   "execution_count": 61,
   "id": "a0964455-3077-4f4f-815a-d5d0203af8ee",
   "metadata": {},
   "outputs": [
    {
     "name": "stderr",
     "output_type": "stream",
     "text": [
      "/tmp/ipykernel_13657/133588567.py:2: RuntimeWarning: divide by zero encountered in divide\n",
      "  UyMid = 0+temp_bool* (hvMidy * cMidy * huMidy / hMidy)\n",
      "/tmp/ipykernel_13657/133588567.py:2: RuntimeWarning: invalid value encountered in multiply\n",
      "  UyMid = 0+temp_bool* (hvMidy * cMidy * huMidy / hMidy)\n"
     ]
    }
   ],
   "source": [
    "temp_bool=hMidy > 0.0        \n",
    "UyMid = 0+temp_bool* (hvMidy * cMidy * huMidy / hMidy)"
   ]
  },
  {
   "cell_type": "code",
   "execution_count": 62,
   "id": "ab257a8b-0442-40e8-941f-a3de67648f68",
   "metadata": {},
   "outputs": [
    {
     "data": {
      "text/plain": [
       "<matplotlib.colorbar.Colorbar at 0x15545a4c37f0>"
      ]
     },
     "execution_count": 62,
     "metadata": {},
     "output_type": "execute_result"
    },
    {
     "data": {
      "image/png": "[encoded data removed]",
      "text/plain": [
       "<Figure size 432x288 with 2 Axes>"
      ]
     },
     "metadata": {
      "needs_background": "light"
     },
     "output_type": "display_data"
    }
   ],
   "source": [
    "plt.imshow(np.asarray(UyMid))\n",
    "plt.colorbar()"
   ]
  },
  {
   "cell_type": "code",
   "execution_count": 9,
   "id": "b050df54-3214-48e8-8e67-c982ee9bf6f8",
   "metadata": {},
   "outputs": [
    {
     "name": "stdout",
     "output_type": "stream",
     "text": [
      "Test\n"
     ]
    },
    {
     "ename": "GTScriptSyntaxError",
     "evalue": "Invalid call signature",
     "output_type": "error",
     "traceback": [
      "\u001b[0;31m---------------------------------------------------------------------------\u001b[0m",
      "\u001b[0;31mAssertionError\u001b[0m                            Traceback (most recent call last)",
      "File \u001b[0;32m~/HPC4WC_venv/lib/python3.9/site-packages/gt4py/frontend/gtscript_frontend.py:527\u001b[0m, in \u001b[0;36mCallInliner.visit_Call\u001b[0;34m(self, node, target_node)\u001b[0m\n\u001b[1;32m    526\u001b[0m \u001b[38;5;28;01mif\u001b[39;00m name \u001b[38;5;129;01mnot\u001b[39;00m \u001b[38;5;129;01min\u001b[39;00m call_args:\n\u001b[0;32m--> 527\u001b[0m     \u001b[38;5;28;01massert\u001b[39;00m arg_infos[name] \u001b[38;5;241m!=\u001b[39m nodes\u001b[38;5;241m.\u001b[39mEmpty\n\u001b[1;32m    528\u001b[0m     call_args[name] \u001b[38;5;241m=\u001b[39m ast\u001b[38;5;241m.\u001b[39mConstant(value\u001b[38;5;241m=\u001b[39marg_infos[name])\n",
      "\u001b[0;31mAssertionError\u001b[0m: ",
      "\nDuring handling of the above exception, another exception occurred:\n",
      "\u001b[0;31mGTScriptSyntaxError\u001b[0m                       Traceback (most recent call last)",
      "Input \u001b[0;32mIn [9]\u001b[0m, in \u001b[0;36m<module>\u001b[0;34m\u001b[0m\n\u001b[1;32m    134\u001b[0m \u001b[38;5;28mprint\u001b[39m(\u001b[38;5;124m\"\u001b[39m\u001b[38;5;124mTest\u001b[39m\u001b[38;5;124m\"\u001b[39m)\n\u001b[1;32m    135\u001b[0m backend\u001b[38;5;241m=\u001b[39m\u001b[38;5;124m\"\u001b[39m\u001b[38;5;124mnumpy\u001b[39m\u001b[38;5;124m\"\u001b[39m\n\u001b[0;32m--> 136\u001b[0m x_staggered \u001b[38;5;241m=\u001b[39m \u001b[43mgtscript\u001b[49m\u001b[38;5;241;43m.\u001b[39;49m\u001b[43mstencil\u001b[49m\u001b[43m(\u001b[49m\u001b[43mdefinition\u001b[49m\u001b[38;5;241;43m=\u001b[39;49m\u001b[43mx_staggered_first_step\u001b[49m\u001b[43m,\u001b[49m\u001b[43m \u001b[49m\u001b[43mbackend\u001b[49m\u001b[38;5;241;43m=\u001b[39;49m\u001b[43mbackend\u001b[49m\u001b[43m,\u001b[49m\u001b[43m \u001b[49m\u001b[43mexternals\u001b[49m\u001b[38;5;241;43m=\u001b[39;49m\u001b[43m{\u001b[49m\u001b[38;5;124;43m\"\u001b[39;49m\u001b[38;5;124;43mxMid\u001b[39;49m\u001b[38;5;124;43m\"\u001b[39;49m\u001b[43m:\u001b[49m\u001b[43mxMid\u001b[49m\u001b[43m,\u001b[49m\u001b[43m \u001b[49m\u001b[38;5;124;43m\"\u001b[39;49m\u001b[38;5;124;43myMid\u001b[39;49m\u001b[38;5;124;43m\"\u001b[39;49m\u001b[43m:\u001b[49m\u001b[43myMid\u001b[49m\u001b[43m,\u001b[49m\u001b[43m \u001b[49m\u001b[38;5;124;43m\"\u001b[39;49m\u001b[38;5;124;43mxMid_hu\u001b[39;49m\u001b[38;5;124;43m\"\u001b[39;49m\u001b[43m:\u001b[49m\u001b[43mxMid_hu\u001b[49m\u001b[43m,\u001b[49m\u001b[43m \u001b[49m\u001b[38;5;124;43m\"\u001b[39;49m\u001b[38;5;124;43myMid_hu\u001b[39;49m\u001b[38;5;124;43m\"\u001b[39;49m\u001b[43m:\u001b[49m\u001b[43myMid_hu\u001b[49m\u001b[43m,\u001b[49m\u001b[43m \u001b[49m\u001b[38;5;124;43m\"\u001b[39;49m\u001b[38;5;124;43mxMid_hv\u001b[39;49m\u001b[38;5;124;43m\"\u001b[39;49m\u001b[43m:\u001b[49m\u001b[43mxMid_hv\u001b[49m\u001b[43m,\u001b[49m\u001b[43m \u001b[49m\u001b[38;5;124;43m\"\u001b[39;49m\u001b[38;5;124;43myMid_hv\u001b[39;49m\u001b[38;5;124;43m\"\u001b[39;49m\u001b[43m:\u001b[49m\u001b[43myMid_hv\u001b[49m\u001b[43m}\u001b[49m\u001b[43m,\u001b[49m\u001b[43m \u001b[49m\u001b[43mrebuild\u001b[49m\u001b[38;5;241;43m=\u001b[39;49m\u001b[38;5;28;43;01mFalse\u001b[39;49;00m\u001b[43m)\u001b[49m\n",
      "File \u001b[0;32m~/HPC4WC_venv/lib/python3.9/site-packages/gt4py/gtscript.py:294\u001b[0m, in \u001b[0;36mstencil\u001b[0;34m(backend, definition, build_info, dtypes, externals, format_source, name, rebuild, **kwargs)\u001b[0m\n\u001b[1;32m    292\u001b[0m     \u001b[38;5;28;01mreturn\u001b[39;00m _decorator\n\u001b[1;32m    293\u001b[0m \u001b[38;5;28;01melse\u001b[39;00m:\n\u001b[0;32m--> 294\u001b[0m     \u001b[38;5;28;01mreturn\u001b[39;00m \u001b[43m_decorator\u001b[49m\u001b[43m(\u001b[49m\u001b[43mdefinition\u001b[49m\u001b[43m)\u001b[49m\n",
      "File \u001b[0;32m~/HPC4WC_venv/lib/python3.9/site-packages/gt4py/gtscript.py:282\u001b[0m, in \u001b[0;36mstencil.<locals>._decorator\u001b[0;34m(definition_func)\u001b[0m\n\u001b[1;32m    279\u001b[0m         definition_func \u001b[38;5;241m=\u001b[39m definition_func\u001b[38;5;241m.\u001b[39m\u001b[38;5;21m__call__\u001b[39m\n\u001b[1;32m    281\u001b[0m original_annotations \u001b[38;5;241m=\u001b[39m _set_arg_dtypes(definition_func, dtypes \u001b[38;5;129;01mor\u001b[39;00m {})\n\u001b[0;32m--> 282\u001b[0m out \u001b[38;5;241m=\u001b[39m \u001b[43mgt_loader\u001b[49m\u001b[38;5;241;43m.\u001b[39;49m\u001b[43mgtscript_loader\u001b[49m\u001b[43m(\u001b[49m\n\u001b[1;32m    283\u001b[0m \u001b[43m    \u001b[49m\u001b[43mdefinition_func\u001b[49m\u001b[43m,\u001b[49m\n\u001b[1;32m    284\u001b[0m \u001b[43m    \u001b[49m\u001b[43mbackend\u001b[49m\u001b[38;5;241;43m=\u001b[39;49m\u001b[43mbackend\u001b[49m\u001b[43m,\u001b[49m\n\u001b[1;32m    285\u001b[0m \u001b[43m    \u001b[49m\u001b[43mbuild_options\u001b[49m\u001b[38;5;241;43m=\u001b[39;49m\u001b[43mbuild_options\u001b[49m\u001b[43m,\u001b[49m\n\u001b[1;32m    286\u001b[0m \u001b[43m    \u001b[49m\u001b[43mexternals\u001b[49m\u001b[38;5;241;43m=\u001b[39;49m\u001b[43mexternals\u001b[49m\u001b[43m \u001b[49m\u001b[38;5;129;43;01mor\u001b[39;49;00m\u001b[43m \u001b[49m\u001b[43m{\u001b[49m\u001b[43m}\u001b[49m\u001b[43m,\u001b[49m\n\u001b[1;32m    287\u001b[0m \u001b[43m\u001b[49m\u001b[43m)\u001b[49m\n\u001b[1;32m    288\u001b[0m \u001b[38;5;28msetattr\u001b[39m(definition_func, \u001b[38;5;124m\"\u001b[39m\u001b[38;5;124m__annotations__\u001b[39m\u001b[38;5;124m\"\u001b[39m, original_annotations)\n\u001b[1;32m    289\u001b[0m \u001b[38;5;28;01mreturn\u001b[39;00m out\n",
      "File \u001b[0;32m~/HPC4WC_venv/lib/python3.9/site-packages/gt4py/loader.py:70\u001b[0m, in \u001b[0;36mgtscript_loader\u001b[0;34m(definition_func, backend, build_options, externals)\u001b[0m\n\u001b[1;32m     68\u001b[0m \u001b[38;5;28;01mif\u001b[39;00m \u001b[38;5;129;01mnot\u001b[39;00m build_options\u001b[38;5;241m.\u001b[39mname:\n\u001b[1;32m     69\u001b[0m     build_options\u001b[38;5;241m.\u001b[39mname \u001b[38;5;241m=\u001b[39m \u001b[38;5;124mf\u001b[39m\u001b[38;5;124m\"\u001b[39m\u001b[38;5;132;01m{\u001b[39;00mdefinition_func\u001b[38;5;241m.\u001b[39m\u001b[38;5;18m__name__\u001b[39m\u001b[38;5;132;01m}\u001b[39;00m\u001b[38;5;124m\"\u001b[39m\n\u001b[0;32m---> 70\u001b[0m stencil_class \u001b[38;5;241m=\u001b[39m \u001b[43mload_stencil\u001b[49m\u001b[43m(\u001b[49m\u001b[38;5;124;43m\"\u001b[39;49m\u001b[38;5;124;43mgtscript\u001b[39;49m\u001b[38;5;124;43m\"\u001b[39;49m\u001b[43m,\u001b[49m\u001b[43m \u001b[49m\u001b[43mbackend\u001b[49m\u001b[43m,\u001b[49m\u001b[43m \u001b[49m\u001b[43mdefinition_func\u001b[49m\u001b[43m,\u001b[49m\u001b[43m \u001b[49m\u001b[43mexternals\u001b[49m\u001b[43m,\u001b[49m\u001b[43m \u001b[49m\u001b[43mbuild_options\u001b[49m\u001b[43m)\u001b[49m\n\u001b[1;32m     72\u001b[0m \u001b[38;5;28;01mreturn\u001b[39;00m stencil_class()\n",
      "File \u001b[0;32m~/HPC4WC_venv/lib/python3.9/site-packages/gt4py/loader.py:56\u001b[0m, in \u001b[0;36mload_stencil\u001b[0;34m(frontend_name, backend_name, definition_func, externals, build_options)\u001b[0m\n\u001b[1;32m     50\u001b[0m     \u001b[38;5;28;01mraise\u001b[39;00m \u001b[38;5;167;01mValueError\u001b[39;00m(\u001b[38;5;124m\"\u001b[39m\u001b[38;5;124mInvalid frontend specification (\u001b[39m\u001b[38;5;132;01m{name}\u001b[39;00m\u001b[38;5;124m)\u001b[39m\u001b[38;5;124m\"\u001b[39m\u001b[38;5;241m.\u001b[39mformat(name\u001b[38;5;241m=\u001b[39mfrontend_name))\n\u001b[1;32m     52\u001b[0m builder \u001b[38;5;241m=\u001b[39m StencilBuilder(\n\u001b[1;32m     53\u001b[0m     definition_func, options\u001b[38;5;241m=\u001b[39mbuild_options, backend\u001b[38;5;241m=\u001b[39mbackend_name, frontend\u001b[38;5;241m=\u001b[39mfrontend\n\u001b[1;32m     54\u001b[0m )\u001b[38;5;241m.\u001b[39mwith_externals(externals)\n\u001b[0;32m---> 56\u001b[0m \u001b[38;5;28;01mreturn\u001b[39;00m \u001b[43mbuilder\u001b[49m\u001b[38;5;241;43m.\u001b[39;49m\u001b[43mbuild\u001b[49m\u001b[43m(\u001b[49m\u001b[43m)\u001b[49m\n",
      "File \u001b[0;32m~/HPC4WC_venv/lib/python3.9/site-packages/gt4py/stencil_builder.py:84\u001b[0m, in \u001b[0;36mStencilBuilder.build\u001b[0;34m(self)\u001b[0m\n\u001b[1;32m     82\u001b[0m stencil_class \u001b[38;5;241m=\u001b[39m \u001b[38;5;28;01mNone\u001b[39;00m \u001b[38;5;28;01mif\u001b[39;00m \u001b[38;5;28mself\u001b[39m\u001b[38;5;241m.\u001b[39moptions\u001b[38;5;241m.\u001b[39mrebuild \u001b[38;5;28;01melse\u001b[39;00m \u001b[38;5;28mself\u001b[39m\u001b[38;5;241m.\u001b[39mbackend\u001b[38;5;241m.\u001b[39mload()\n\u001b[1;32m     83\u001b[0m \u001b[38;5;28;01mif\u001b[39;00m stencil_class \u001b[38;5;129;01mis\u001b[39;00m \u001b[38;5;28;01mNone\u001b[39;00m:\n\u001b[0;32m---> 84\u001b[0m     stencil_class \u001b[38;5;241m=\u001b[39m \u001b[38;5;28;43mself\u001b[39;49m\u001b[38;5;241;43m.\u001b[39;49m\u001b[43mbackend\u001b[49m\u001b[38;5;241;43m.\u001b[39;49m\u001b[43mgenerate\u001b[49m\u001b[43m(\u001b[49m\u001b[43m)\u001b[49m\n\u001b[1;32m     85\u001b[0m \u001b[38;5;28;01mreturn\u001b[39;00m stencil_class\n",
      "File \u001b[0;32m~/HPC4WC_venv/lib/python3.9/site-packages/gt4py/backend/numpy_backend.py:122\u001b[0m, in \u001b[0;36mNumpyBackend.generate\u001b[0;34m(self)\u001b[0m\n\u001b[1;32m    120\u001b[0m \u001b[38;5;28;01mif\u001b[39;00m \u001b[38;5;129;01mnot\u001b[39;00m \u001b[38;5;28mself\u001b[39m\u001b[38;5;241m.\u001b[39mbuilder\u001b[38;5;241m.\u001b[39moptions\u001b[38;5;241m.\u001b[39m_impl_opts\u001b[38;5;241m.\u001b[39mget(\u001b[38;5;124m\"\u001b[39m\u001b[38;5;124mdisable-code-generation\u001b[39m\u001b[38;5;124m\"\u001b[39m, \u001b[38;5;28;01mFalse\u001b[39;00m):\n\u001b[1;32m    121\u001b[0m     src_dir\u001b[38;5;241m.\u001b[39mmkdir(parents\u001b[38;5;241m=\u001b[39m\u001b[38;5;28;01mTrue\u001b[39;00m, exist_ok\u001b[38;5;241m=\u001b[39m\u001b[38;5;28;01mTrue\u001b[39;00m)\n\u001b[0;32m--> 122\u001b[0m     recursive_write(src_dir, \u001b[38;5;28;43mself\u001b[39;49m\u001b[38;5;241;43m.\u001b[39;49m\u001b[43mgenerate_computation\u001b[49m\u001b[43m(\u001b[49m\u001b[43m)\u001b[49m)\n\u001b[1;32m    123\u001b[0m \u001b[38;5;28;01mreturn\u001b[39;00m \u001b[38;5;28mself\u001b[39m\u001b[38;5;241m.\u001b[39mmake_module()\n",
      "File \u001b[0;32m~/HPC4WC_venv/lib/python3.9/site-packages/gt4py/backend/numpy_backend.py:107\u001b[0m, in \u001b[0;36mNumpyBackend.generate_computation\u001b[0;34m(self)\u001b[0m\n\u001b[1;32m     99\u001b[0m computation_name \u001b[38;5;241m=\u001b[39m (\n\u001b[1;32m    100\u001b[0m     \u001b[38;5;28mself\u001b[39m\u001b[38;5;241m.\u001b[39mbuilder\u001b[38;5;241m.\u001b[39mcaching\u001b[38;5;241m.\u001b[39mmodule_prefix\n\u001b[1;32m    101\u001b[0m     \u001b[38;5;241m+\u001b[39m \u001b[38;5;124m\"\u001b[39m\u001b[38;5;124mcomputation\u001b[39m\u001b[38;5;124m\"\u001b[39m\n\u001b[1;32m    102\u001b[0m     \u001b[38;5;241m+\u001b[39m \u001b[38;5;28mself\u001b[39m\u001b[38;5;241m.\u001b[39mbuilder\u001b[38;5;241m.\u001b[39mcaching\u001b[38;5;241m.\u001b[39mmodule_postfix\n\u001b[1;32m    103\u001b[0m     \u001b[38;5;241m+\u001b[39m \u001b[38;5;124m\"\u001b[39m\u001b[38;5;124m.py\u001b[39m\u001b[38;5;124m\"\u001b[39m\n\u001b[1;32m    104\u001b[0m )\n\u001b[1;32m    106\u001b[0m ignore_np_errstate \u001b[38;5;241m=\u001b[39m \u001b[38;5;28mself\u001b[39m\u001b[38;5;241m.\u001b[39mbuilder\u001b[38;5;241m.\u001b[39moptions\u001b[38;5;241m.\u001b[39mbackend_opts\u001b[38;5;241m.\u001b[39mget(\u001b[38;5;124m\"\u001b[39m\u001b[38;5;124mignore_np_errstate\u001b[39m\u001b[38;5;124m\"\u001b[39m, \u001b[38;5;28;01mTrue\u001b[39;00m)\n\u001b[0;32m--> 107\u001b[0m source \u001b[38;5;241m=\u001b[39m NpirCodegen\u001b[38;5;241m.\u001b[39mapply(\u001b[38;5;28;43mself\u001b[39;49m\u001b[38;5;241;43m.\u001b[39;49m\u001b[43mnpir\u001b[49m, ignore_np_errstate\u001b[38;5;241m=\u001b[39mignore_np_errstate)\n\u001b[1;32m    108\u001b[0m \u001b[38;5;28;01mif\u001b[39;00m \u001b[38;5;28mself\u001b[39m\u001b[38;5;241m.\u001b[39mbuilder\u001b[38;5;241m.\u001b[39moptions\u001b[38;5;241m.\u001b[39mformat_source:\n\u001b[1;32m    109\u001b[0m     source \u001b[38;5;241m=\u001b[39m format_source(\u001b[38;5;124m\"\u001b[39m\u001b[38;5;124mpython\u001b[39m\u001b[38;5;124m\"\u001b[39m, source)\n",
      "File \u001b[0;32m~/HPC4WC_venv/lib/python3.9/site-packages/gt4py/backend/numpy_backend.py:147\u001b[0m, in \u001b[0;36mNumpyBackend.npir\u001b[0;34m(self)\u001b[0m\n\u001b[1;32m    145\u001b[0m key \u001b[38;5;241m=\u001b[39m \u001b[38;5;124m\"\u001b[39m\u001b[38;5;124mgtcnumpy:npir\u001b[39m\u001b[38;5;124m\"\u001b[39m\n\u001b[1;32m    146\u001b[0m \u001b[38;5;28;01mif\u001b[39;00m key \u001b[38;5;129;01mnot\u001b[39;00m \u001b[38;5;129;01min\u001b[39;00m \u001b[38;5;28mself\u001b[39m\u001b[38;5;241m.\u001b[39mbuilder\u001b[38;5;241m.\u001b[39mbackend_data:\n\u001b[0;32m--> 147\u001b[0m     \u001b[38;5;28mself\u001b[39m\u001b[38;5;241m.\u001b[39mbuilder\u001b[38;5;241m.\u001b[39mwith_backend_data({key: \u001b[38;5;28;43mself\u001b[39;49m\u001b[38;5;241;43m.\u001b[39;49m\u001b[43m_make_npir\u001b[49m\u001b[43m(\u001b[49m\u001b[43m)\u001b[49m})\n\u001b[1;32m    148\u001b[0m \u001b[38;5;28;01mreturn\u001b[39;00m \u001b[38;5;28mself\u001b[39m\u001b[38;5;241m.\u001b[39mbuilder\u001b[38;5;241m.\u001b[39mbackend_data[key]\n",
      "File \u001b[0;32m~/HPC4WC_venv/lib/python3.9/site-packages/gt4py/backend/numpy_backend.py:126\u001b[0m, in \u001b[0;36mNumpyBackend._make_npir\u001b[0;34m(self)\u001b[0m\n\u001b[1;32m    125\u001b[0m \u001b[38;5;28;01mdef\u001b[39;00m \u001b[38;5;21m_make_npir\u001b[39m(\u001b[38;5;28mself\u001b[39m) \u001b[38;5;241m-\u001b[39m\u001b[38;5;241m>\u001b[39m npir\u001b[38;5;241m.\u001b[39mComputation:\n\u001b[0;32m--> 126\u001b[0m     base_oir \u001b[38;5;241m=\u001b[39m GTIRToOIR()\u001b[38;5;241m.\u001b[39mvisit(\u001b[38;5;28;43mself\u001b[39;49m\u001b[38;5;241;43m.\u001b[39;49m\u001b[43mbuilder\u001b[49m\u001b[38;5;241;43m.\u001b[39;49m\u001b[43mgtir\u001b[49m)\n\u001b[1;32m    127\u001b[0m     oir_pipeline \u001b[38;5;241m=\u001b[39m \u001b[38;5;28mself\u001b[39m\u001b[38;5;241m.\u001b[39mbuilder\u001b[38;5;241m.\u001b[39moptions\u001b[38;5;241m.\u001b[39mbackend_opts\u001b[38;5;241m.\u001b[39mget(\n\u001b[1;32m    128\u001b[0m         \u001b[38;5;124m\"\u001b[39m\u001b[38;5;124moir_pipeline\u001b[39m\u001b[38;5;124m\"\u001b[39m,\n\u001b[1;32m    129\u001b[0m         DefaultPipeline(\n\u001b[0;32m   (...)\u001b[0m\n\u001b[1;32m    136\u001b[0m         ),\n\u001b[1;32m    137\u001b[0m     )\n\u001b[1;32m    138\u001b[0m     oir_node \u001b[38;5;241m=\u001b[39m oir_pipeline\u001b[38;5;241m.\u001b[39mrun(base_oir)\n",
      "File \u001b[0;32m~/HPC4WC_venv/lib/python3.9/site-packages/gt4py/stencil_builder.py:263\u001b[0m, in \u001b[0;36mStencilBuilder.gtir\u001b[0;34m(self)\u001b[0m\n\u001b[1;32m    261\u001b[0m \u001b[38;5;129m@property\u001b[39m\n\u001b[1;32m    262\u001b[0m \u001b[38;5;28;01mdef\u001b[39;00m \u001b[38;5;21mgtir\u001b[39m(\u001b[38;5;28mself\u001b[39m) \u001b[38;5;241m-\u001b[39m\u001b[38;5;241m>\u001b[39m gtir\u001b[38;5;241m.\u001b[39mStencil:\n\u001b[0;32m--> 263\u001b[0m     \u001b[38;5;28;01mreturn\u001b[39;00m \u001b[38;5;28;43mself\u001b[39;49m\u001b[38;5;241;43m.\u001b[39;49m\u001b[43mgtir_pipeline\u001b[49m\u001b[38;5;241m.\u001b[39mfull()\n",
      "File \u001b[0;32m~/HPC4WC_venv/lib/python3.9/site-packages/gt4py/stencil_builder.py:258\u001b[0m, in \u001b[0;36mStencilBuilder.gtir_pipeline\u001b[0;34m(self)\u001b[0m\n\u001b[1;32m    254\u001b[0m \u001b[38;5;129m@property\u001b[39m\n\u001b[1;32m    255\u001b[0m \u001b[38;5;28;01mdef\u001b[39;00m \u001b[38;5;21mgtir_pipeline\u001b[39m(\u001b[38;5;28mself\u001b[39m) \u001b[38;5;241m-\u001b[39m\u001b[38;5;241m>\u001b[39m GtirPipeline:\n\u001b[1;32m    256\u001b[0m     \u001b[38;5;28;01mreturn\u001b[39;00m \u001b[38;5;28mself\u001b[39m\u001b[38;5;241m.\u001b[39m_build_data\u001b[38;5;241m.\u001b[39mget(\u001b[38;5;124m\"\u001b[39m\u001b[38;5;124mgtir_pipeline\u001b[39m\u001b[38;5;124m\"\u001b[39m) \u001b[38;5;129;01mor\u001b[39;00m \u001b[38;5;28mself\u001b[39m\u001b[38;5;241m.\u001b[39m_build_data\u001b[38;5;241m.\u001b[39msetdefault(\n\u001b[1;32m    257\u001b[0m         \u001b[38;5;124m\"\u001b[39m\u001b[38;5;124mgtir_pipeline\u001b[39m\u001b[38;5;124m\"\u001b[39m,\n\u001b[0;32m--> 258\u001b[0m         GtirPipeline(\u001b[38;5;28;43mself\u001b[39;49m\u001b[38;5;241;43m.\u001b[39;49m\u001b[43mfrontend\u001b[49m\u001b[38;5;241;43m.\u001b[39;49m\u001b[43mgenerate\u001b[49m\u001b[43m(\u001b[49m\u001b[38;5;28;43mself\u001b[39;49m\u001b[38;5;241;43m.\u001b[39;49m\u001b[43mdefinition\u001b[49m\u001b[43m,\u001b[49m\u001b[43m \u001b[49m\u001b[38;5;28;43mself\u001b[39;49m\u001b[38;5;241;43m.\u001b[39;49m\u001b[43mexternals\u001b[49m\u001b[43m,\u001b[49m\u001b[43m \u001b[49m\u001b[38;5;28;43mself\u001b[39;49m\u001b[38;5;241;43m.\u001b[39;49m\u001b[43moptions\u001b[49m\u001b[43m)\u001b[49m),\n\u001b[1;32m    259\u001b[0m     )\n",
      "File \u001b[0;32m~/HPC4WC_venv/lib/python3.9/site-packages/gt4py/frontend/gtscript_frontend.py:2011\u001b[0m, in \u001b[0;36mGTScriptFrontend.generate\u001b[0;34m(cls, definition, externals, options)\u001b[0m\n\u001b[1;32m   2009\u001b[0m     \u001b[38;5;28mcls\u001b[39m\u001b[38;5;241m.\u001b[39mprepare_stencil_definition(definition, externals)\n\u001b[1;32m   2010\u001b[0m translator \u001b[38;5;241m=\u001b[39m GTScriptParser(definition, externals\u001b[38;5;241m=\u001b[39mexternals, options\u001b[38;5;241m=\u001b[39moptions)\n\u001b[0;32m-> 2011\u001b[0m definition_ir \u001b[38;5;241m=\u001b[39m \u001b[43mtranslator\u001b[49m\u001b[38;5;241;43m.\u001b[39;49m\u001b[43mrun\u001b[49m\u001b[43m(\u001b[49m\u001b[43m)\u001b[49m\n\u001b[1;32m   2013\u001b[0m \u001b[38;5;66;03m# GTIR only supports LatLonGrids\u001b[39;00m\n\u001b[1;32m   2014\u001b[0m \u001b[38;5;28;01mif\u001b[39;00m definition_ir\u001b[38;5;241m.\u001b[39mdomain \u001b[38;5;241m!=\u001b[39m nodes\u001b[38;5;241m.\u001b[39mDomain\u001b[38;5;241m.\u001b[39mLatLonGrid():\n",
      "File \u001b[0;32m~/HPC4WC_venv/lib/python3.9/site-packages/gt4py/frontend/gtscript_frontend.py:1934\u001b[0m, in \u001b[0;36mGTScriptParser.run\u001b[0;34m(self)\u001b[0m\n\u001b[1;32m   1931\u001b[0m ValueInliner\u001b[38;5;241m.\u001b[39mapply(main_func_node, context\u001b[38;5;241m=\u001b[39mlocal_context)\n\u001b[1;32m   1933\u001b[0m \u001b[38;5;66;03m# Inline function calls\u001b[39;00m\n\u001b[0;32m-> 1934\u001b[0m \u001b[43mCallInliner\u001b[49m\u001b[38;5;241;43m.\u001b[39;49m\u001b[43mapply\u001b[49m\u001b[43m(\u001b[49m\u001b[43mmain_func_node\u001b[49m\u001b[43m,\u001b[49m\u001b[43m \u001b[49m\u001b[43mcontext\u001b[49m\u001b[38;5;241;43m=\u001b[39;49m\u001b[43mlocal_context\u001b[49m\u001b[43m)\u001b[49m\n\u001b[1;32m   1936\u001b[0m \u001b[38;5;66;03m# Evaluate and inline compile-time conditionals\u001b[39;00m\n\u001b[1;32m   1937\u001b[0m CompiledIfInliner\u001b[38;5;241m.\u001b[39mapply(main_func_node, context\u001b[38;5;241m=\u001b[39mlocal_context)\n",
      "File \u001b[0;32m~/HPC4WC_venv/lib/python3.9/site-packages/gt4py/frontend/gtscript_frontend.py:428\u001b[0m, in \u001b[0;36mCallInliner.apply\u001b[0;34m(cls, func_node, context)\u001b[0m\n\u001b[1;32m    425\u001b[0m \u001b[38;5;129m@classmethod\u001b[39m\n\u001b[1;32m    426\u001b[0m \u001b[38;5;28;01mdef\u001b[39;00m \u001b[38;5;21mapply\u001b[39m(\u001b[38;5;28mcls\u001b[39m, func_node: ast\u001b[38;5;241m.\u001b[39mFunctionDef, context: \u001b[38;5;28mdict\u001b[39m):\n\u001b[1;32m    427\u001b[0m     inliner \u001b[38;5;241m=\u001b[39m \u001b[38;5;28mcls\u001b[39m(context)\n\u001b[0;32m--> 428\u001b[0m     \u001b[43minliner\u001b[49m\u001b[43m(\u001b[49m\u001b[43mfunc_node\u001b[49m\u001b[43m)\u001b[49m\n\u001b[1;32m    429\u001b[0m     \u001b[38;5;28;01mreturn\u001b[39;00m inliner\u001b[38;5;241m.\u001b[39mall_skip_names\n",
      "File \u001b[0;32m~/HPC4WC_venv/lib/python3.9/site-packages/gt4py/frontend/gtscript_frontend.py:437\u001b[0m, in \u001b[0;36mCallInliner.__call__\u001b[0;34m(self, func_node)\u001b[0m\n\u001b[1;32m    436\u001b[0m \u001b[38;5;28;01mdef\u001b[39;00m \u001b[38;5;21m__call__\u001b[39m(\u001b[38;5;28mself\u001b[39m, func_node: ast\u001b[38;5;241m.\u001b[39mFunctionDef):\n\u001b[0;32m--> 437\u001b[0m     \u001b[38;5;28;43mself\u001b[39;49m\u001b[38;5;241;43m.\u001b[39;49m\u001b[43mvisit\u001b[49m\u001b[43m(\u001b[49m\u001b[43mfunc_node\u001b[49m\u001b[43m)\u001b[49m\n",
      "File \u001b[0;32m~/HPC4WC_venv/lib/python3.9/site-packages/gt4py/frontend/gtscript_frontend.py:443\u001b[0m, in \u001b[0;36mCallInliner.visit\u001b[0;34m(self, node, **kwargs)\u001b[0m\n\u001b[1;32m    441\u001b[0m method \u001b[38;5;241m=\u001b[39m \u001b[38;5;124m\"\u001b[39m\u001b[38;5;124mvisit_\u001b[39m\u001b[38;5;124m\"\u001b[39m \u001b[38;5;241m+\u001b[39m node\u001b[38;5;241m.\u001b[39m\u001b[38;5;18m__class__\u001b[39m\u001b[38;5;241m.\u001b[39m\u001b[38;5;18m__name__\u001b[39m\n\u001b[1;32m    442\u001b[0m visitor \u001b[38;5;241m=\u001b[39m \u001b[38;5;28mgetattr\u001b[39m(\u001b[38;5;28mself\u001b[39m, method, \u001b[38;5;28mself\u001b[39m\u001b[38;5;241m.\u001b[39mgeneric_visit)\n\u001b[0;32m--> 443\u001b[0m \u001b[38;5;28;01mreturn\u001b[39;00m \u001b[43mvisitor\u001b[49m\u001b[43m(\u001b[49m\u001b[43mnode\u001b[49m\u001b[43m,\u001b[49m\u001b[43m \u001b[49m\u001b[38;5;241;43m*\u001b[39;49m\u001b[38;5;241;43m*\u001b[39;49m\u001b[43mkwargs\u001b[49m\u001b[43m)\u001b[49m\n",
      "File \u001b[0;32m~/HPC4WC_venv/lib/python3.9/site-packages/gt4py/frontend/gtscript_frontend.py:458\u001b[0m, in \u001b[0;36mCallInliner.visit_FunctionDef\u001b[0;34m(self, node)\u001b[0m\n\u001b[1;32m    457\u001b[0m \u001b[38;5;28;01mdef\u001b[39;00m \u001b[38;5;21mvisit_FunctionDef\u001b[39m(\u001b[38;5;28mself\u001b[39m, node: ast\u001b[38;5;241m.\u001b[39mFunctionDef):\n\u001b[0;32m--> 458\u001b[0m     node\u001b[38;5;241m.\u001b[39mbody \u001b[38;5;241m=\u001b[39m \u001b[38;5;28;43mself\u001b[39;49m\u001b[38;5;241;43m.\u001b[39;49m\u001b[43m_process_stmts\u001b[49m\u001b[43m(\u001b[49m\u001b[43mnode\u001b[49m\u001b[38;5;241;43m.\u001b[39;49m\u001b[43mbody\u001b[49m\u001b[43m)\u001b[49m\n\u001b[1;32m    459\u001b[0m     \u001b[38;5;28;01mreturn\u001b[39;00m node\n",
      "File \u001b[0;32m~/HPC4WC_venv/lib/python3.9/site-packages/gt4py/frontend/gtscript_frontend.py:451\u001b[0m, in \u001b[0;36mCallInliner._process_stmts\u001b[0;34m(self, stmts)\u001b[0m\n\u001b[1;32m    449\u001b[0m \u001b[38;5;28;01mfor\u001b[39;00m s \u001b[38;5;129;01min\u001b[39;00m stmts:\n\u001b[1;32m    450\u001b[0m     \u001b[38;5;28;01mif\u001b[39;00m \u001b[38;5;129;01mnot\u001b[39;00m \u001b[38;5;28misinstance\u001b[39m(s, (ast\u001b[38;5;241m.\u001b[39mImport, ast\u001b[38;5;241m.\u001b[39mImportFrom)):\n\u001b[0;32m--> 451\u001b[0m         \u001b[38;5;28;01mif\u001b[39;00m \u001b[38;5;28;43mself\u001b[39;49m\u001b[38;5;241;43m.\u001b[39;49m\u001b[43mvisit\u001b[49m\u001b[43m(\u001b[49m\u001b[43ms\u001b[49m\u001b[43m)\u001b[49m:\n\u001b[1;32m    452\u001b[0m             new_stmts\u001b[38;5;241m.\u001b[39mappend(s)\n\u001b[1;32m    453\u001b[0m \u001b[38;5;28mself\u001b[39m\u001b[38;5;241m.\u001b[39mcurrent_block \u001b[38;5;241m=\u001b[39m outer_block\n",
      "File \u001b[0;32m~/HPC4WC_venv/lib/python3.9/site-packages/gt4py/frontend/gtscript_frontend.py:443\u001b[0m, in \u001b[0;36mCallInliner.visit\u001b[0;34m(self, node, **kwargs)\u001b[0m\n\u001b[1;32m    441\u001b[0m method \u001b[38;5;241m=\u001b[39m \u001b[38;5;124m\"\u001b[39m\u001b[38;5;124mvisit_\u001b[39m\u001b[38;5;124m\"\u001b[39m \u001b[38;5;241m+\u001b[39m node\u001b[38;5;241m.\u001b[39m\u001b[38;5;18m__class__\u001b[39m\u001b[38;5;241m.\u001b[39m\u001b[38;5;18m__name__\u001b[39m\n\u001b[1;32m    442\u001b[0m visitor \u001b[38;5;241m=\u001b[39m \u001b[38;5;28mgetattr\u001b[39m(\u001b[38;5;28mself\u001b[39m, method, \u001b[38;5;28mself\u001b[39m\u001b[38;5;241m.\u001b[39mgeneric_visit)\n\u001b[0;32m--> 443\u001b[0m \u001b[38;5;28;01mreturn\u001b[39;00m \u001b[43mvisitor\u001b[49m\u001b[43m(\u001b[49m\u001b[43mnode\u001b[49m\u001b[43m,\u001b[49m\u001b[43m \u001b[49m\u001b[38;5;241;43m*\u001b[39;49m\u001b[38;5;241;43m*\u001b[39;49m\u001b[43mkwargs\u001b[49m\u001b[43m)\u001b[49m\n",
      "File \u001b[0;32m~/HPC4WC_venv/lib/python3.9/site-packages/gt4py/frontend/gtscript_frontend.py:462\u001b[0m, in \u001b[0;36mCallInliner.visit_With\u001b[0;34m(self, node)\u001b[0m\n\u001b[1;32m    461\u001b[0m \u001b[38;5;28;01mdef\u001b[39;00m \u001b[38;5;21mvisit_With\u001b[39m(\u001b[38;5;28mself\u001b[39m, node: ast\u001b[38;5;241m.\u001b[39mWith):\n\u001b[0;32m--> 462\u001b[0m     node\u001b[38;5;241m.\u001b[39mbody \u001b[38;5;241m=\u001b[39m \u001b[38;5;28;43mself\u001b[39;49m\u001b[38;5;241;43m.\u001b[39;49m\u001b[43m_process_stmts\u001b[49m\u001b[43m(\u001b[49m\u001b[43mnode\u001b[49m\u001b[38;5;241;43m.\u001b[39;49m\u001b[43mbody\u001b[49m\u001b[43m)\u001b[49m\n\u001b[1;32m    463\u001b[0m     \u001b[38;5;28;01mreturn\u001b[39;00m node\n",
      "File \u001b[0;32m~/HPC4WC_venv/lib/python3.9/site-packages/gt4py/frontend/gtscript_frontend.py:451\u001b[0m, in \u001b[0;36mCallInliner._process_stmts\u001b[0;34m(self, stmts)\u001b[0m\n\u001b[1;32m    449\u001b[0m \u001b[38;5;28;01mfor\u001b[39;00m s \u001b[38;5;129;01min\u001b[39;00m stmts:\n\u001b[1;32m    450\u001b[0m     \u001b[38;5;28;01mif\u001b[39;00m \u001b[38;5;129;01mnot\u001b[39;00m \u001b[38;5;28misinstance\u001b[39m(s, (ast\u001b[38;5;241m.\u001b[39mImport, ast\u001b[38;5;241m.\u001b[39mImportFrom)):\n\u001b[0;32m--> 451\u001b[0m         \u001b[38;5;28;01mif\u001b[39;00m \u001b[38;5;28;43mself\u001b[39;49m\u001b[38;5;241;43m.\u001b[39;49m\u001b[43mvisit\u001b[49m\u001b[43m(\u001b[49m\u001b[43ms\u001b[49m\u001b[43m)\u001b[49m:\n\u001b[1;32m    452\u001b[0m             new_stmts\u001b[38;5;241m.\u001b[39mappend(s)\n\u001b[1;32m    453\u001b[0m \u001b[38;5;28mself\u001b[39m\u001b[38;5;241m.\u001b[39mcurrent_block \u001b[38;5;241m=\u001b[39m outer_block\n",
      "File \u001b[0;32m~/HPC4WC_venv/lib/python3.9/site-packages/gt4py/frontend/gtscript_frontend.py:443\u001b[0m, in \u001b[0;36mCallInliner.visit\u001b[0;34m(self, node, **kwargs)\u001b[0m\n\u001b[1;32m    441\u001b[0m method \u001b[38;5;241m=\u001b[39m \u001b[38;5;124m\"\u001b[39m\u001b[38;5;124mvisit_\u001b[39m\u001b[38;5;124m\"\u001b[39m \u001b[38;5;241m+\u001b[39m node\u001b[38;5;241m.\u001b[39m\u001b[38;5;18m__class__\u001b[39m\u001b[38;5;241m.\u001b[39m\u001b[38;5;18m__name__\u001b[39m\n\u001b[1;32m    442\u001b[0m visitor \u001b[38;5;241m=\u001b[39m \u001b[38;5;28mgetattr\u001b[39m(\u001b[38;5;28mself\u001b[39m, method, \u001b[38;5;28mself\u001b[39m\u001b[38;5;241m.\u001b[39mgeneric_visit)\n\u001b[0;32m--> 443\u001b[0m \u001b[38;5;28;01mreturn\u001b[39;00m \u001b[43mvisitor\u001b[49m\u001b[43m(\u001b[49m\u001b[43mnode\u001b[49m\u001b[43m,\u001b[49m\u001b[43m \u001b[49m\u001b[38;5;241;43m*\u001b[39;49m\u001b[38;5;241;43m*\u001b[39;49m\u001b[43mkwargs\u001b[49m\u001b[43m)\u001b[49m\n",
      "File \u001b[0;32m~/HPC4WC_venv/lib/python3.9/site-packages/gt4py/frontend/gtscript_frontend.py:481\u001b[0m, in \u001b[0;36mCallInliner.visit_Assign\u001b[0;34m(self, node)\u001b[0m\n\u001b[1;32m    476\u001b[0m \u001b[38;5;28;01mif\u001b[39;00m (\n\u001b[1;32m    477\u001b[0m     \u001b[38;5;28misinstance\u001b[39m(node\u001b[38;5;241m.\u001b[39mvalue, ast\u001b[38;5;241m.\u001b[39mCall)\n\u001b[1;32m    478\u001b[0m     \u001b[38;5;129;01mand\u001b[39;00m gt_meta\u001b[38;5;241m.\u001b[39mget_qualified_name_from_node(node\u001b[38;5;241m.\u001b[39mvalue\u001b[38;5;241m.\u001b[39mfunc) \u001b[38;5;129;01mnot\u001b[39;00m \u001b[38;5;129;01min\u001b[39;00m gtscript\u001b[38;5;241m.\u001b[39mMATH_BUILTINS\n\u001b[1;32m    479\u001b[0m ):\n\u001b[1;32m    480\u001b[0m     \u001b[38;5;28;01massert\u001b[39;00m \u001b[38;5;28mlen\u001b[39m(node\u001b[38;5;241m.\u001b[39mtargets) \u001b[38;5;241m==\u001b[39m \u001b[38;5;241m1\u001b[39m\n\u001b[0;32m--> 481\u001b[0m     \u001b[38;5;28;43mself\u001b[39;49m\u001b[38;5;241;43m.\u001b[39;49m\u001b[43mvisit\u001b[49m\u001b[43m(\u001b[49m\u001b[43mnode\u001b[49m\u001b[38;5;241;43m.\u001b[39;49m\u001b[43mvalue\u001b[49m\u001b[43m,\u001b[49m\u001b[43m \u001b[49m\u001b[43mtarget_node\u001b[49m\u001b[38;5;241;43m=\u001b[39;49m\u001b[43mnode\u001b[49m\u001b[38;5;241;43m.\u001b[39;49m\u001b[43mtargets\u001b[49m\u001b[43m[\u001b[49m\u001b[38;5;241;43m0\u001b[39;49m\u001b[43m]\u001b[49m\u001b[43m)\u001b[49m\n\u001b[1;32m    482\u001b[0m     \u001b[38;5;66;03m# This node can be now removed since the trivial assignment has been already done\u001b[39;00m\n\u001b[1;32m    483\u001b[0m     \u001b[38;5;66;03m# in the Call visitor\u001b[39;00m\n\u001b[1;32m    484\u001b[0m     \u001b[38;5;28;01mreturn\u001b[39;00m \u001b[38;5;28;01mNone\u001b[39;00m\n",
      "File \u001b[0;32m~/HPC4WC_venv/lib/python3.9/site-packages/gt4py/frontend/gtscript_frontend.py:443\u001b[0m, in \u001b[0;36mCallInliner.visit\u001b[0;34m(self, node, **kwargs)\u001b[0m\n\u001b[1;32m    441\u001b[0m method \u001b[38;5;241m=\u001b[39m \u001b[38;5;124m\"\u001b[39m\u001b[38;5;124mvisit_\u001b[39m\u001b[38;5;124m\"\u001b[39m \u001b[38;5;241m+\u001b[39m node\u001b[38;5;241m.\u001b[39m\u001b[38;5;18m__class__\u001b[39m\u001b[38;5;241m.\u001b[39m\u001b[38;5;18m__name__\u001b[39m\n\u001b[1;32m    442\u001b[0m visitor \u001b[38;5;241m=\u001b[39m \u001b[38;5;28mgetattr\u001b[39m(\u001b[38;5;28mself\u001b[39m, method, \u001b[38;5;28mself\u001b[39m\u001b[38;5;241m.\u001b[39mgeneric_visit)\n\u001b[0;32m--> 443\u001b[0m \u001b[38;5;28;01mreturn\u001b[39;00m \u001b[43mvisitor\u001b[49m\u001b[43m(\u001b[49m\u001b[43mnode\u001b[49m\u001b[43m,\u001b[49m\u001b[43m \u001b[49m\u001b[38;5;241;43m*\u001b[39;49m\u001b[38;5;241;43m*\u001b[39;49m\u001b[43mkwargs\u001b[49m\u001b[43m)\u001b[49m\n",
      "File \u001b[0;32m~/HPC4WC_venv/lib/python3.9/site-packages/gt4py/frontend/gtscript_frontend.py:530\u001b[0m, in \u001b[0;36mCallInliner.visit_Call\u001b[0;34m(self, node, target_node)\u001b[0m\n\u001b[1;32m    528\u001b[0m             call_args[name] \u001b[38;5;241m=\u001b[39m ast\u001b[38;5;241m.\u001b[39mConstant(value\u001b[38;5;241m=\u001b[39marg_infos[name])\n\u001b[1;32m    529\u001b[0m \u001b[38;5;28;01mexcept\u001b[39;00m \u001b[38;5;167;01mException\u001b[39;00m:\n\u001b[0;32m--> 530\u001b[0m     \u001b[38;5;28;01mraise\u001b[39;00m GTScriptSyntaxError(\n\u001b[1;32m    531\u001b[0m         message\u001b[38;5;241m=\u001b[39m\u001b[38;5;124m\"\u001b[39m\u001b[38;5;124mInvalid call signature\u001b[39m\u001b[38;5;124m\"\u001b[39m, loc\u001b[38;5;241m=\u001b[39mnodes\u001b[38;5;241m.\u001b[39mLocation\u001b[38;5;241m.\u001b[39mfrom_ast_node(node)\n\u001b[1;32m    532\u001b[0m     )\n\u001b[1;32m    534\u001b[0m \u001b[38;5;66;03m# Rename local names in subroutine to avoid conflicts with caller context names\u001b[39;00m\n\u001b[1;32m    535\u001b[0m \u001b[38;5;28;01mtry\u001b[39;00m:\n",
      "\u001b[0;31mGTScriptSyntaxError\u001b[0m: Invalid call signature"
     ]
    }
   ],
   "source": [
    "#Compute x staggered\n",
    "@gtscript.function\n",
    "def xMid(self, dx, dt, h, hu):\n",
    "    return 0.5 * (h[1, 0,0] + h[0,0,0]) - 0.5 * dt / dx[0,0,0] * (hu[1,0,0] - hu[0,0,0])\n",
    "\n",
    "@gtscript.function\n",
    "def yMid(self, dy1, dt, h, hv1):\n",
    "    return 0.5 * (h[0,1,0] + h[0,0,0]) - 0.5 * dt / dy1[0,0,0] * (hv1[0,1,0] - hv1[0,0,0])\n",
    "\n",
    "@gtscript.function\n",
    "def xMid_hu(self, dx, dt, hu, hv, Ux, f, u, tgMidx, a):\n",
    "    return (0.5 * (hu[1, 0,0] + hu[0,0,0]) - 0.5 * dt / dx[0,0,0] * (Ux[1,0,0] - Ux[0,0,0]) + \\\n",
    "            0.5 * dt * \\\n",
    "            (0.5 * (f[1,0,0] + f[0,0,0]) + \\\n",
    "            0.5 * (u[1,0,0] + u[0,0,0]) * tgMidx / a) * \\\n",
    "            (0.5 * (hv[1,0,0] + hv[0,0,0])))           \n",
    "\n",
    "@gtscript.function\n",
    "def yMid_hu(self, dy1, dt, hu, hv, Uy, f, u, tgMidy, a):\n",
    "    return (0.5 * (hu[0,1,0] + hu[0,0,0]) - 0.5 * dt / dy1[0,0,0] * (Uy[0,1,0] - Uy[0,0,0]) + \\\n",
    "        0.5 * dt * \\\n",
    "        (0.5 * (f[0,1,0] + f[0,0,0]) + \\\n",
    "        0.5 * (u[0,1,0] + u[0,0,0]) * tgMidy / a) * \\\n",
    "        (0.5 * (hv[0,1,0] + hv[0,0,0])))\n",
    "\n",
    "\n",
    "@gtscript.function\n",
    "def xMid_hv(self, dx, dt, hu, hv, Vx, f, u, tgMidx, a):\n",
    "    return (0.5 * (hv[1, 0,0] + hv[0,0,0]) - 0.5 * dt / dx[0,0,0] * (Vx[1,0,0] - Vx[0,0,0]) - \\\n",
    "            0.5 * dt * \\\n",
    "            (0.5 * (f[1,0,0] + f[0,0,0]) + \\\n",
    "            0.5 * (u[1,0,0] + u[0,0,0]) * tgMidx / a) * \\\n",
    "            (0.5 * (hu[1,0,0] + hu[0,0,0])))    \n",
    "\n",
    "\n",
    "@gtscript.function\n",
    "def yMid_hv(self, dy1, dy, dt, hu, hv,  Vy1, Vy2, f, u, tgMidy, a):\n",
    "    return (0.5 * (hv[0,1,0] + hv[0,0,0]) \\\n",
    "            - 0.5 * dt / dy1[0,0,0] * (Vy1[0,1,0] - Vy1[0,0,0]) -  \\\n",
    "            0.5 * dt / dy[0,0,0] * (Vy2[0,1,0] - Vy2[0,0,0]) -\\\n",
    "            0.5 * dt * \\\n",
    "            (0.5 * (f[0,1,0] + f[0,0,0]) + \\\n",
    "            0.5 * (u[0,1,0] + u[0,0,0]) * tgMidy / a) * \\\n",
    "            (0.5 * (hu[0,1,0] + hu[0,0,0])))\n",
    "\n",
    "@gtscript.function\n",
    "def compute_hnew(h, dt, dxc, huMidx, dy1c, hvMidy, cMidy):\n",
    "    return h[1,1,0] -  dt / dxc[0,0,0] * (huMidx[1,0,0] - huMidx[0,0,0]) - dt /dy1c[0,0,0] * (hvMidy[0,1,0]*cMidy[0,1,0] - hvMidy[0,0,0]*cMidy[0,0,0])\n",
    "\n",
    "@gtscript.function\n",
    "def compute_hunew(hu, dt, dxc, UxMid, dy1c, UyMid, f, huMidx, hMidx, huMidy,hMidy,tg, a, hvMidx,hvMidy,g, hs,dx):\n",
    "    first= dt / dxc * (UxMid[1,0,0] - UxMid[0,0,0])\n",
    "\n",
    "    second= dt / dy1c * (UyMid[0,1,0] - UyMid[0,0,0])\n",
    "\n",
    "    third= dt * (f[1,1,0] +  0.25 * (huMidx[0,0,0] / hMidx[0,0,0] + \\\n",
    "                                    huMidx[1,0,0] / hMidx[1,0,0] + \\\n",
    "                                    huMidy[0,0,0] / hMidy[0,0,0] + \\\n",
    "                                    huMidy[0,1,0] / hMidy[0,1,0]) * \\\n",
    "                                    tg /a) * \\\n",
    "                                    0.25 * (hvMidx[0,0,0] + hvMidx[1,0,0] + hvMidy[0,0,0] + hvMidy[0,1,0])\n",
    "\n",
    "    fourth= dt * g * 0.25 * (hMidx[0,0,0] + hMidx[1,0,0] + hMidy[0,0,0] + hMidy[0,1,0]) * \\\n",
    "                (hs[2,0,0] - hs[0,0,0]) / (dx[0,0,0] + dx[1,0,0])\n",
    "\n",
    "    return hu[1,1,0] - first - second + third - fourth\n",
    "\n",
    "\n",
    "@gtscript.function\n",
    "def compute_hvnew(hv, dt, dxc, VxMid, dy1c, Vy1Mid, dyc, Vy2Mid, f, huMidx, hMidx, huMidy, hMidy, tg, a, g, hs, dy1):\n",
    "\n",
    "    first  = dt / dxc * (VxMid[1,0,0] - VxMid[0,0,0])\n",
    "    second = dt / dy1c * (Vy1Mid[0,1,0] - Vy1Mid[0,0,0])\n",
    "    third  = dt / dyc * (Vy2Mid[0,1,0] - Vy2Mid[0,0,0])\n",
    "\n",
    "    fourth = dt * (f[0,0,0] + 0.25 * (huMidx[0,0,0] / hMidx[0,0,0] + \\\n",
    "                                    huMidx[1,0,0] / hMidx[1,0,0] + \\\n",
    "                                    huMidy[0,0,0] / hMidy[0,0,0] + \\\n",
    "                                    huMidy[0,1,0] / hMidy[0,1,0]) * \\\n",
    "                                    tg / a) * \\\n",
    "                                    0.25 * (huMidx[0,0,0] + huMidx[1,0,0] + huMidy[0,0,0] + huMidy[0,1,0])\n",
    "\n",
    "    fifth  = dt * g * 0.25 * (hMidx[0,0,0] + hMidx[1,0,0] + hMidy[0,0,0] + hMidy[0,1,0]) * (hs[1,2,0] - hs[1,0,0]) / (dy1[1,1,0] + dy1[1,0,0]) \n",
    "\n",
    "    return hv[1,1,0] - first - second - third - fourth - fifth\n",
    "\n",
    "def compute_temp_variables(\n",
    "    u: gtscript.Field[float], \n",
    "    v: gtscript.Field[float],\n",
    "    h: gtscript.Field[float],\n",
    "    c: gtscript.Field[float],\n",
    "\n",
    "    hu: gtscript.Field[float],\n",
    "    hv: gtscript.Field[float],\n",
    "    v1: gtscript.Field[float]):\n",
    "\n",
    "    with computation(PARALLEL), interval(...):\n",
    "        hu = h * u\n",
    "        v1 = v * c\n",
    "        hv = h * v\n",
    "        \n",
    "def x_staggered_first_step(\n",
    "    u: gtscript.Field[float], \n",
    "    v: gtscript.Field[float],\n",
    "    h: gtscript.Field[float],\n",
    "    \n",
    "    hu: gtscript.Field[float],\n",
    "    hv: gtscript.Field[float],\n",
    "    f: gtscript.Field[float],\n",
    "    \n",
    "    dx: gtscript.Field[float],\n",
    "    tgMidx: gtscript.Field[float],\n",
    "    \n",
    "    hMidx: gtscript.Field[float],\n",
    "    huMidx: gtscript.Field[float],\n",
    "    hvMidx: gtscript.Field[float],\n",
    "    *,\n",
    "    dt: float,\n",
    "    g: float,\n",
    "    a: float):\n",
    "    from __gtscript__ import PARALLEL, computation, interval\n",
    "    from __externals__ import xMid, yMid, xMid_hu, yMid_hu, xMid_hv, yMid_hv\n",
    "    \n",
    "    with computation(PARALLEL), interval(...):\n",
    "            Ux = hu * u + 0.5 * g * h * h\n",
    "            Vx = hu * v\n",
    "            \n",
    "            # Mid-point value for h along x\n",
    "            hMidx = xMid(dx, h, hu, dt)\n",
    "            huMidx = xMid_hu(dx, dt, hu, hv, Ux, f, u, tgMidx, a)\n",
    "            hvMidx = xMid_hv(dx, dt, hu, hv, Vx, f, u, tgMidx, a)\n",
    "\n",
    "\n",
    "print(\"Test\")\n",
    "backend=\"numpy\"\n",
    "x_staggered = gtscript.stencil(definition=x_staggered_first_step, backend=backend, externals={\"xMid\":xMid, \"yMid\":yMid, \"xMid_hu\":xMid_hu, \"yMid_hu\":yMid_hu, \"xMid_hv\":xMid_hv, \"yMid_hv\":yMid_hv}, rebuild=False)"
   ]
  },
  {
   "cell_type": "code",
   "execution_count": 10,
   "id": "8e3ac912-3fe2-47a3-a5a7-526d9119a46e",
   "metadata": {},
   "outputs": [],
   "source": [
    "#Compute x staggered\n",
    "@gtscript.function\n",
    "def xMid(dx, dt, h, hu):\n",
    "    return 0.5 * (h[1, 0,0] + h[0,0,0]) - 0.5 * dt / dx[0,0,0] * (hu[1,0,0] - hu[0,0,0])\n",
    "\n",
    "@gtscript.function\n",
    "def yMid(dy1, dt, h, hv1):\n",
    "    return 0.5 * (h[0,1,0] + h[0,0,0]) - 0.5 * dt / dy1[0,0,0] * (hv1[0,1,0] - hv1[0,0,0])\n",
    "\n",
    "@gtscript.function\n",
    "def xMid_hu(dx, dt, hu, hv, Ux, f, u, tgMidx, a):\n",
    "    return (0.5 * (hu[1, 0,0] + hu[0,0,0]) - 0.5 * dt / dx[0,0,0] * (Ux[1,0,0] - Ux[0,0,0]) + \\\n",
    "            0.5 * dt * \\\n",
    "            (0.5 * (f[1,0,0] + f[0,0,0]) + \\\n",
    "            0.5 * (u[1,0,0] + u[0,0,0]) * tgMidx / a) * \\\n",
    "            (0.5 * (hv[1,0,0] + hv[0,0,0])))           \n",
    "\n",
    "@gtscript.function\n",
    "def yMid_hu(dy1, dt, hu, hv, Uy, f, u, tgMidy, a):\n",
    "    return (0.5 * (hu[0,1,0] + hu[0,0,0]) - 0.5 * dt / dy1[0,0,0] * (Uy[0,1,0] - Uy[0,0,0]) + \\\n",
    "        0.5 * dt * \\\n",
    "        (0.5 * (f[0,1,0] + f[0,0,0]) + \\\n",
    "        0.5 * (u[0,1,0] + u[0,0,0]) * tgMidy / a) * \\\n",
    "        (0.5 * (hv[0,1,0] + hv[0,0,0])))\n",
    "\n",
    "            \n",
    "@gtscript.function\n",
    "def xMid_hv(dx, dt, hu, hv, Vx, f, u, tgMidx, a):\n",
    "    return (0.5 * (hv[1, 0,0] + hv[0,0,0]) - 0.5 * dt / dx[0,0,0] * (Vx[1,0,0] - Vx[0,0,0]) - \\\n",
    "            0.5 * dt * \\\n",
    "            (0.5 * (f[1,0,0] + f[0,0,0]) + \\\n",
    "            0.5 * (u[1,0,0] + u[0,0,0]) * tgMidx / a) * \\\n",
    "            (0.5 * (hu[1,0,0] + hu[0,0,0])))    \n",
    "            \n",
    "            \n",
    "@gtscript.function\n",
    "def yMid_hv(dy1, dy, dt, hu, hv,  Vy1, Vy2, f, u, tgMidy, a):\n",
    "    return (0.5 * (hv[0,1,0] + hv[0,0,0]) \\\n",
    "            - 0.5 * dt / dy1[0,0,0] * (Vy1[0,1,0] - Vy1[0,0,0]) -  \\\n",
    "            0.5 * dt / dy[0,0,0] * (Vy2[0,1,0] - Vy2[0,0,0]) -\\\n",
    "            0.5 * dt * \\\n",
    "            (0.5 * (f[0,1,0] + f[0,0,0]) + \\\n",
    "            0.5 * (u[0,1,0] + u[0,0,0]) * tgMidy / a) * \\\n",
    "            (0.5 * (hu[0,1,0] + hu[0,0,0])))\n",
    "\n",
    "\n",
    "def compute_temp_variables(\n",
    "    u: gtscript.Field[float], \n",
    "    v: gtscript.Field[float],\n",
    "    h: gtscript.Field[float],\n",
    "    c: gtscript.Field[float],\n",
    "\n",
    "    hu: gtscript.Field[float],\n",
    "    hv: gtscript.Field[float],\n",
    "    v1: gtscript.Field[float]):\n",
    "    \n",
    "    with computation(PARALLEL), interval(...):\n",
    "        hu = h * u\n",
    "        v1 = v * c\n",
    "        hv = h * v\n",
    "\n",
    "    \n",
    "def x_staggered_first_step(\n",
    "    u: gtscript.Field[float], \n",
    "    v: gtscript.Field[float],\n",
    "    h: gtscript.Field[float],\n",
    "    \n",
    "    hu: gtscript.Field[float],\n",
    "    hv: gtscript.Field[float],\n",
    "    f: gtscript.Field[float],\n",
    "    \n",
    "    dx: gtscript.Field[float],\n",
    "    tgMidx: gtscript.Field[float],\n",
    "    \n",
    "    hMidx: gtscript.Field[float],\n",
    "    huMidx: gtscript.Field[float],\n",
    "    hvMidx: gtscript.Field[float],\n",
    "    *,\n",
    "    dt: float,\n",
    "    g: float,\n",
    "    a: float):\n",
    "    from __gtscript__ import PARALLEL, computation, interval\n",
    "    from __externals__ import xMid, yMid, xMid_hu, yMid_hu, xMid_hv, yMid_hv\n",
    "    \n",
    "    with computation(PARALLEL), interval(...):\n",
    "            Ux = hu * u + 0.5 * g * h * h\n",
    "            Vx = hu * v\n",
    "            \n",
    "            # Mid-point value for h along x\n",
    "            hMidx = xMid(dx, h, hu, dt)\n",
    "            huMidx = xMid_hu(dx, dt, hu, hv, Ux, f, u, tgMidx, a)\n",
    "            hvMidx = xMid_hv(dx, dt, hu, hv, Vx, f, u, tgMidx, a)"
   ]
  },
  {
   "cell_type": "code",
   "execution_count": 11,
   "id": "57baf962-80f7-4a56-884d-ab1756753d8f",
   "metadata": {},
   "outputs": [],
   "source": [
    "x_staggered = gtscript.stencil(definition=x_staggered_first_step, backend=backend, externals={\"xMid\": xMid, \"yMid\": yMid, \"xMid_hu\": xMid_hu, \"yMid_hu\": yMid_hu, \"xMid_hv\": xMid_hv, \"yMid_hv\": yMid_hv})\n"
   ]
  },
  {
   "cell_type": "code",
   "execution_count": 23,
   "id": "908e44c4-9e2f-4e15-848a-b556366814c4",
   "metadata": {},
   "outputs": [
    {
     "ename": "ValueError",
     "evalue": "all the input array dimensions except for the concatenation axis must match exactly, but along dimension 1, the array at index 0 has size 2 and the array at index 1 has size 3",
     "output_type": "error",
     "traceback": [
      "\u001b[0;31m---------------------------------------------------------------------------\u001b[0m",
      "\u001b[0;31mValueError\u001b[0m                                Traceback (most recent call last)",
      "Input \u001b[0;32mIn [23]\u001b[0m, in \u001b[0;36m<module>\u001b[0;34m\u001b[0m\n\u001b[0;32m----> 1\u001b[0m np\u001b[38;5;241m.\u001b[39mshape(\u001b[43mnp\u001b[49m\u001b[38;5;241;43m.\u001b[39;49m\u001b[43mvstack\u001b[49m\u001b[43m(\u001b[49m\u001b[43m(\u001b[49m\u001b[43mnp\u001b[49m\u001b[38;5;241;43m.\u001b[39;49m\u001b[43mzeros\u001b[49m\u001b[43m(\u001b[49m\u001b[38;5;241;43m2\u001b[39;49m\u001b[43m)\u001b[49m\u001b[43m,\u001b[49m\u001b[43m \u001b[49m\u001b[43ma\u001b[49m\u001b[43m)\u001b[49m\u001b[43m)\u001b[49m)\n",
      "File \u001b[0;32m~/HPC4WC_venv/lib/python3.9/site-packages/numpy/core/shape_base.py:289\u001b[0m, in \u001b[0;36mvstack\u001b[0;34m(tup, dtype, casting)\u001b[0m\n\u001b[1;32m    287\u001b[0m \u001b[38;5;28;01mif\u001b[39;00m \u001b[38;5;129;01mnot\u001b[39;00m \u001b[38;5;28misinstance\u001b[39m(arrs, \u001b[38;5;28mlist\u001b[39m):\n\u001b[1;32m    288\u001b[0m     arrs \u001b[38;5;241m=\u001b[39m [arrs]\n\u001b[0;32m--> 289\u001b[0m \u001b[38;5;28;01mreturn\u001b[39;00m \u001b[43m_nx\u001b[49m\u001b[38;5;241;43m.\u001b[39;49m\u001b[43mconcatenate\u001b[49m\u001b[43m(\u001b[49m\u001b[43marrs\u001b[49m\u001b[43m,\u001b[49m\u001b[43m \u001b[49m\u001b[38;5;241;43m0\u001b[39;49m\u001b[43m,\u001b[49m\u001b[43m \u001b[49m\u001b[43mdtype\u001b[49m\u001b[38;5;241;43m=\u001b[39;49m\u001b[43mdtype\u001b[49m\u001b[43m,\u001b[49m\u001b[43m \u001b[49m\u001b[43mcasting\u001b[49m\u001b[38;5;241;43m=\u001b[39;49m\u001b[43mcasting\u001b[49m\u001b[43m)\u001b[49m\n",
      "\u001b[0;31mValueError\u001b[0m: all the input array dimensions except for the concatenation axis must match exactly, but along dimension 1, the array at index 0 has size 2 and the array at index 1 has size 3"
     ]
    }
   ],
   "source": [
    "np.shape(np.vstack((np.zeros(2), a)))"
   ]
  },
  {
   "cell_type": "code",
   "execution_count": null,
   "id": "a1d26cf7-6153-47f2-bd07-11a2af8f4741",
   "metadata": {},
   "outputs": [],
   "source": []
  }
 ],
 "metadata": {
  "kernelspec": {
   "display_name": "HPC4WC_kernel",
   "language": "python",
   "name": "hpc4wc_kernel"
  },
  "language_info": {
   "codemirror_mode": {
    "name": "ipython",
    "version": 3
   },
   "file_extension": ".py",
   "mimetype": "text/x-python",
   "name": "python",
   "nbconvert_exporter": "python",
   "pygments_lexer": "ipython3",
   "version": "3.9.4"
  }
 },
 "nbformat": 4,
 "nbformat_minor": 5
}
